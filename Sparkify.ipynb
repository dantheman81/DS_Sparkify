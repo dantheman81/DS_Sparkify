{
 "cells": [
  {
   "cell_type": "markdown",
   "metadata": {},
   "source": [
    "# Sparkify Project Workspace\n",
    "This workspace contains a tiny subset (128MB) of the full dataset available (12GB). Feel free to use this workspace to build your project, or to explore a smaller subset with Spark before deploying your cluster on the cloud. Instructions for setting up your Spark cluster is included in the last lesson of the Extracurricular Spark Course content.\n",
    "\n",
    "You can follow the steps below to guide your data analysis and model building portion of this project."
   ]
  },
  {
   "cell_type": "code",
   "execution_count": 1,
   "metadata": {},
   "outputs": [],
   "source": [
    "# import libraries\n",
    "from pyspark.sql import SparkSession\n",
    "from pyspark.sql.functions import avg, col, count, isnull, udf, when\n",
    "\n",
    "from pyspark.ml.classification import RandomForestClassifier, LinearSVC, GBTClassifier\n",
    "from pyspark.ml.evaluation import MulticlassClassificationEvaluator, BinaryClassificationEvaluator\n",
    "from pyspark.ml.feature import StandardScaler, VectorAssembler\n",
    "from pyspark.ml.tuning import CrossValidator, ParamGridBuilder\n",
    "\n",
    "import datetime\n",
    "from workspace_utils import active_session\n",
    "\n",
    "import numpy as np\n",
    "import pandas as pd\n",
    "import seaborn as sns\n",
    "\n",
    "%matplotlib inline\n",
    "import matplotlib.pyplot as plt\n"
   ]
  },
  {
   "cell_type": "code",
   "execution_count": 2,
   "metadata": {},
   "outputs": [
    {
     "data": {
      "text/plain": [
       "DataFrame[artist: string, auth: string, firstName: string, gender: string, itemInSession: bigint, lastName: string, length: double, level: string, location: string, method: string, page: string, registration: bigint, sessionId: bigint, song: string, status: bigint, ts: bigint, userAgent: string, userId: string]"
      ]
     },
     "execution_count": 2,
     "metadata": {},
     "output_type": "execute_result"
    }
   ],
   "source": [
    "# create a Spark session and load the data set \"mini_sparkify_event_data.json\"\n",
    "spark = SparkSession.builder \\\n",
    "    .master(\"local\") \\\n",
    "    .appName(\"Sparkify Project\") \\\n",
    "    .getOrCreate()\n",
    "\n",
    "path = \"mini_sparkify_event_data.json\"\n",
    "df = spark.read.json(path)\n",
    "df.persist()"
   ]
  },
  {
   "cell_type": "markdown",
   "metadata": {},
   "source": [
    "# Load and Clean Dataset\n",
    "In this workspace, the mini-dataset file is `mini_sparkify_event_data.json`. Load and clean the dataset, checking for invalid or missing data - for example, records without userids or sessionids. "
   ]
  },
  {
   "cell_type": "markdown",
   "metadata": {},
   "source": [
    "Clean up:\n",
    "- Check and delete records with userid or sessionid == null\n",
    "- Check for other NaNs"
   ]
  },
  {
   "cell_type": "code",
   "execution_count": 3,
   "metadata": {
    "scrolled": true
   },
   "outputs": [
    {
     "data": {
      "text/plain": [
       "[Row(artist='Martha Tilston', auth='Logged In', firstName='Colin', gender='M', itemInSession=50, lastName='Freeman', length=277.89016, level='paid', location='Bakersfield, CA', method='PUT', page='NextSong', registration=1538173362000, sessionId=29, song='Rockpools', status=200, ts=1538352117000, userAgent='Mozilla/5.0 (Windows NT 6.1; WOW64; rv:31.0) Gecko/20100101 Firefox/31.0', userId='30'),\n",
       " Row(artist='Five Iron Frenzy', auth='Logged In', firstName='Micah', gender='M', itemInSession=79, lastName='Long', length=236.09424, level='free', location='Boston-Cambridge-Newton, MA-NH', method='PUT', page='NextSong', registration=1538331630000, sessionId=8, song='Canada', status=200, ts=1538352180000, userAgent='\"Mozilla/5.0 (Windows NT 6.1; WOW64) AppleWebKit/537.36 (KHTML, like Gecko) Chrome/37.0.2062.103 Safari/537.36\"', userId='9'),\n",
       " Row(artist='Adam Lambert', auth='Logged In', firstName='Colin', gender='M', itemInSession=51, lastName='Freeman', length=282.8273, level='paid', location='Bakersfield, CA', method='PUT', page='NextSong', registration=1538173362000, sessionId=29, song='Time For Miracles', status=200, ts=1538352394000, userAgent='Mozilla/5.0 (Windows NT 6.1; WOW64; rv:31.0) Gecko/20100101 Firefox/31.0', userId='30'),\n",
       " Row(artist='Enigma', auth='Logged In', firstName='Micah', gender='M', itemInSession=80, lastName='Long', length=262.71302, level='free', location='Boston-Cambridge-Newton, MA-NH', method='PUT', page='NextSong', registration=1538331630000, sessionId=8, song='Knocking On Forbidden Doors', status=200, ts=1538352416000, userAgent='\"Mozilla/5.0 (Windows NT 6.1; WOW64) AppleWebKit/537.36 (KHTML, like Gecko) Chrome/37.0.2062.103 Safari/537.36\"', userId='9'),\n",
       " Row(artist='Daft Punk', auth='Logged In', firstName='Colin', gender='M', itemInSession=52, lastName='Freeman', length=223.60771, level='paid', location='Bakersfield, CA', method='PUT', page='NextSong', registration=1538173362000, sessionId=29, song='Harder Better Faster Stronger', status=200, ts=1538352676000, userAgent='Mozilla/5.0 (Windows NT 6.1; WOW64; rv:31.0) Gecko/20100101 Firefox/31.0', userId='30')]"
      ]
     },
     "execution_count": 3,
     "metadata": {},
     "output_type": "execute_result"
    }
   ],
   "source": [
    "# lets have a first look at the data\n",
    "df.take(5)"
   ]
  },
  {
   "cell_type": "code",
   "execution_count": 4,
   "metadata": {},
   "outputs": [
    {
     "data": {
      "text/html": [
       "<div>\n",
       "<style scoped>\n",
       "    .dataframe tbody tr th:only-of-type {\n",
       "        vertical-align: middle;\n",
       "    }\n",
       "\n",
       "    .dataframe tbody tr th {\n",
       "        vertical-align: top;\n",
       "    }\n",
       "\n",
       "    .dataframe thead th {\n",
       "        text-align: right;\n",
       "    }\n",
       "</style>\n",
       "<table border=\"1\" class=\"dataframe\">\n",
       "  <thead>\n",
       "    <tr style=\"text-align: right;\">\n",
       "      <th></th>\n",
       "      <th>0</th>\n",
       "      <th>1</th>\n",
       "      <th>2</th>\n",
       "      <th>3</th>\n",
       "      <th>4</th>\n",
       "    </tr>\n",
       "  </thead>\n",
       "  <tbody>\n",
       "    <tr>\n",
       "      <td>artist</td>\n",
       "      <td>Martha Tilston</td>\n",
       "      <td>Five Iron Frenzy</td>\n",
       "      <td>Adam Lambert</td>\n",
       "      <td>Enigma</td>\n",
       "      <td>Daft Punk</td>\n",
       "    </tr>\n",
       "    <tr>\n",
       "      <td>auth</td>\n",
       "      <td>Logged In</td>\n",
       "      <td>Logged In</td>\n",
       "      <td>Logged In</td>\n",
       "      <td>Logged In</td>\n",
       "      <td>Logged In</td>\n",
       "    </tr>\n",
       "    <tr>\n",
       "      <td>firstName</td>\n",
       "      <td>Colin</td>\n",
       "      <td>Micah</td>\n",
       "      <td>Colin</td>\n",
       "      <td>Micah</td>\n",
       "      <td>Colin</td>\n",
       "    </tr>\n",
       "    <tr>\n",
       "      <td>gender</td>\n",
       "      <td>M</td>\n",
       "      <td>M</td>\n",
       "      <td>M</td>\n",
       "      <td>M</td>\n",
       "      <td>M</td>\n",
       "    </tr>\n",
       "    <tr>\n",
       "      <td>itemInSession</td>\n",
       "      <td>50</td>\n",
       "      <td>79</td>\n",
       "      <td>51</td>\n",
       "      <td>80</td>\n",
       "      <td>52</td>\n",
       "    </tr>\n",
       "    <tr>\n",
       "      <td>lastName</td>\n",
       "      <td>Freeman</td>\n",
       "      <td>Long</td>\n",
       "      <td>Freeman</td>\n",
       "      <td>Long</td>\n",
       "      <td>Freeman</td>\n",
       "    </tr>\n",
       "    <tr>\n",
       "      <td>length</td>\n",
       "      <td>277.89</td>\n",
       "      <td>236.094</td>\n",
       "      <td>282.827</td>\n",
       "      <td>262.713</td>\n",
       "      <td>223.608</td>\n",
       "    </tr>\n",
       "    <tr>\n",
       "      <td>level</td>\n",
       "      <td>paid</td>\n",
       "      <td>free</td>\n",
       "      <td>paid</td>\n",
       "      <td>free</td>\n",
       "      <td>paid</td>\n",
       "    </tr>\n",
       "    <tr>\n",
       "      <td>location</td>\n",
       "      <td>Bakersfield, CA</td>\n",
       "      <td>Boston-Cambridge-Newton, MA-NH</td>\n",
       "      <td>Bakersfield, CA</td>\n",
       "      <td>Boston-Cambridge-Newton, MA-NH</td>\n",
       "      <td>Bakersfield, CA</td>\n",
       "    </tr>\n",
       "    <tr>\n",
       "      <td>method</td>\n",
       "      <td>PUT</td>\n",
       "      <td>PUT</td>\n",
       "      <td>PUT</td>\n",
       "      <td>PUT</td>\n",
       "      <td>PUT</td>\n",
       "    </tr>\n",
       "    <tr>\n",
       "      <td>page</td>\n",
       "      <td>NextSong</td>\n",
       "      <td>NextSong</td>\n",
       "      <td>NextSong</td>\n",
       "      <td>NextSong</td>\n",
       "      <td>NextSong</td>\n",
       "    </tr>\n",
       "    <tr>\n",
       "      <td>registration</td>\n",
       "      <td>1538173362000</td>\n",
       "      <td>1538331630000</td>\n",
       "      <td>1538173362000</td>\n",
       "      <td>1538331630000</td>\n",
       "      <td>1538173362000</td>\n",
       "    </tr>\n",
       "    <tr>\n",
       "      <td>sessionId</td>\n",
       "      <td>29</td>\n",
       "      <td>8</td>\n",
       "      <td>29</td>\n",
       "      <td>8</td>\n",
       "      <td>29</td>\n",
       "    </tr>\n",
       "    <tr>\n",
       "      <td>song</td>\n",
       "      <td>Rockpools</td>\n",
       "      <td>Canada</td>\n",
       "      <td>Time For Miracles</td>\n",
       "      <td>Knocking On Forbidden Doors</td>\n",
       "      <td>Harder Better Faster Stronger</td>\n",
       "    </tr>\n",
       "    <tr>\n",
       "      <td>status</td>\n",
       "      <td>200</td>\n",
       "      <td>200</td>\n",
       "      <td>200</td>\n",
       "      <td>200</td>\n",
       "      <td>200</td>\n",
       "    </tr>\n",
       "    <tr>\n",
       "      <td>ts</td>\n",
       "      <td>1538352117000</td>\n",
       "      <td>1538352180000</td>\n",
       "      <td>1538352394000</td>\n",
       "      <td>1538352416000</td>\n",
       "      <td>1538352676000</td>\n",
       "    </tr>\n",
       "    <tr>\n",
       "      <td>userAgent</td>\n",
       "      <td>Mozilla/5.0 (Windows NT 6.1; WOW64; rv:31.0) G...</td>\n",
       "      <td>\"Mozilla/5.0 (Windows NT 6.1; WOW64) AppleWebK...</td>\n",
       "      <td>Mozilla/5.0 (Windows NT 6.1; WOW64; rv:31.0) G...</td>\n",
       "      <td>\"Mozilla/5.0 (Windows NT 6.1; WOW64) AppleWebK...</td>\n",
       "      <td>Mozilla/5.0 (Windows NT 6.1; WOW64; rv:31.0) G...</td>\n",
       "    </tr>\n",
       "    <tr>\n",
       "      <td>userId</td>\n",
       "      <td>30</td>\n",
       "      <td>9</td>\n",
       "      <td>30</td>\n",
       "      <td>9</td>\n",
       "      <td>30</td>\n",
       "    </tr>\n",
       "  </tbody>\n",
       "</table>\n",
       "</div>"
      ],
      "text/plain": [
       "                                                               0  \\\n",
       "artist                                            Martha Tilston   \n",
       "auth                                                   Logged In   \n",
       "firstName                                                  Colin   \n",
       "gender                                                         M   \n",
       "itemInSession                                                 50   \n",
       "lastName                                                 Freeman   \n",
       "length                                                    277.89   \n",
       "level                                                       paid   \n",
       "location                                         Bakersfield, CA   \n",
       "method                                                       PUT   \n",
       "page                                                    NextSong   \n",
       "registration                                       1538173362000   \n",
       "sessionId                                                     29   \n",
       "song                                                   Rockpools   \n",
       "status                                                       200   \n",
       "ts                                                 1538352117000   \n",
       "userAgent      Mozilla/5.0 (Windows NT 6.1; WOW64; rv:31.0) G...   \n",
       "userId                                                        30   \n",
       "\n",
       "                                                               1  \\\n",
       "artist                                          Five Iron Frenzy   \n",
       "auth                                                   Logged In   \n",
       "firstName                                                  Micah   \n",
       "gender                                                         M   \n",
       "itemInSession                                                 79   \n",
       "lastName                                                    Long   \n",
       "length                                                   236.094   \n",
       "level                                                       free   \n",
       "location                          Boston-Cambridge-Newton, MA-NH   \n",
       "method                                                       PUT   \n",
       "page                                                    NextSong   \n",
       "registration                                       1538331630000   \n",
       "sessionId                                                      8   \n",
       "song                                                      Canada   \n",
       "status                                                       200   \n",
       "ts                                                 1538352180000   \n",
       "userAgent      \"Mozilla/5.0 (Windows NT 6.1; WOW64) AppleWebK...   \n",
       "userId                                                         9   \n",
       "\n",
       "                                                               2  \\\n",
       "artist                                              Adam Lambert   \n",
       "auth                                                   Logged In   \n",
       "firstName                                                  Colin   \n",
       "gender                                                         M   \n",
       "itemInSession                                                 51   \n",
       "lastName                                                 Freeman   \n",
       "length                                                   282.827   \n",
       "level                                                       paid   \n",
       "location                                         Bakersfield, CA   \n",
       "method                                                       PUT   \n",
       "page                                                    NextSong   \n",
       "registration                                       1538173362000   \n",
       "sessionId                                                     29   \n",
       "song                                           Time For Miracles   \n",
       "status                                                       200   \n",
       "ts                                                 1538352394000   \n",
       "userAgent      Mozilla/5.0 (Windows NT 6.1; WOW64; rv:31.0) G...   \n",
       "userId                                                        30   \n",
       "\n",
       "                                                               3  \\\n",
       "artist                                                    Enigma   \n",
       "auth                                                   Logged In   \n",
       "firstName                                                  Micah   \n",
       "gender                                                         M   \n",
       "itemInSession                                                 80   \n",
       "lastName                                                    Long   \n",
       "length                                                   262.713   \n",
       "level                                                       free   \n",
       "location                          Boston-Cambridge-Newton, MA-NH   \n",
       "method                                                       PUT   \n",
       "page                                                    NextSong   \n",
       "registration                                       1538331630000   \n",
       "sessionId                                                      8   \n",
       "song                                 Knocking On Forbidden Doors   \n",
       "status                                                       200   \n",
       "ts                                                 1538352416000   \n",
       "userAgent      \"Mozilla/5.0 (Windows NT 6.1; WOW64) AppleWebK...   \n",
       "userId                                                         9   \n",
       "\n",
       "                                                               4  \n",
       "artist                                                 Daft Punk  \n",
       "auth                                                   Logged In  \n",
       "firstName                                                  Colin  \n",
       "gender                                                         M  \n",
       "itemInSession                                                 52  \n",
       "lastName                                                 Freeman  \n",
       "length                                                   223.608  \n",
       "level                                                       paid  \n",
       "location                                         Bakersfield, CA  \n",
       "method                                                       PUT  \n",
       "page                                                    NextSong  \n",
       "registration                                       1538173362000  \n",
       "sessionId                                                     29  \n",
       "song                               Harder Better Faster Stronger  \n",
       "status                                                       200  \n",
       "ts                                                 1538352676000  \n",
       "userAgent      Mozilla/5.0 (Windows NT 6.1; WOW64; rv:31.0) G...  \n",
       "userId                                                        30  "
      ]
     },
     "execution_count": 4,
     "metadata": {},
     "output_type": "execute_result"
    }
   ],
   "source": [
    "pd.DataFrame(df.take(5), columns=df.columns).transpose()"
   ]
  },
  {
   "cell_type": "code",
   "execution_count": 5,
   "metadata": {},
   "outputs": [
    {
     "name": "stdout",
     "output_type": "stream",
     "text": [
      "root\n",
      " |-- artist: string (nullable = true)\n",
      " |-- auth: string (nullable = true)\n",
      " |-- firstName: string (nullable = true)\n",
      " |-- gender: string (nullable = true)\n",
      " |-- itemInSession: long (nullable = true)\n",
      " |-- lastName: string (nullable = true)\n",
      " |-- length: double (nullable = true)\n",
      " |-- level: string (nullable = true)\n",
      " |-- location: string (nullable = true)\n",
      " |-- method: string (nullable = true)\n",
      " |-- page: string (nullable = true)\n",
      " |-- registration: long (nullable = true)\n",
      " |-- sessionId: long (nullable = true)\n",
      " |-- song: string (nullable = true)\n",
      " |-- status: long (nullable = true)\n",
      " |-- ts: long (nullable = true)\n",
      " |-- userAgent: string (nullable = true)\n",
      " |-- userId: string (nullable = true)\n",
      "\n"
     ]
    }
   ],
   "source": [
    "# Show the schema of the loaded data\n",
    "df.printSchema()"
   ]
  },
  {
   "cell_type": "code",
   "execution_count": 6,
   "metadata": {},
   "outputs": [
    {
     "name": "stdout",
     "output_type": "stream",
     "text": [
      "+-------+------------------+----------+---------+------+------------------+--------+-----------------+------+-----------------+------+-------+--------------------+-----------------+--------------------+------------------+--------------------+--------------------+-----------------+\n",
      "|summary|            artist|      auth|firstName|gender|     itemInSession|lastName|           length| level|         location|method|   page|        registration|        sessionId|                song|            status|                  ts|           userAgent|           userId|\n",
      "+-------+------------------+----------+---------+------+------------------+--------+-----------------+------+-----------------+------+-------+--------------------+-----------------+--------------------+------------------+--------------------+--------------------+-----------------+\n",
      "|  count|            228108|    286500|   278154|278154|            286500|  278154|           228108|286500|           278154|286500| 286500|              278154|           286500|              228108|            286500|              286500|              278154|           286500|\n",
      "|   mean| 551.0852017937219|      null|     null|  null|114.41421291448516|    null|249.1171819778458|  null|             null|  null|   null|1.535358834084427...|1041.526554973822|            Infinity|210.05459685863875|1.540956889810483...|                null|59682.02278593872|\n",
      "| stddev|1217.7693079161374|      null|     null|  null|129.76726201140994|    null|99.23517921058361|  null|             null|  null|   null| 3.291321616327586E9|726.7762634630741|                 NaN| 31.50507848842214|1.5075439608226302E9|                null|109091.9499991047|\n",
      "|    min|               !!!| Cancelled| Adelaida|     F|                 0|   Adams|          0.78322|  free|       Albany, OR|   GET|  About|       1521380675000|                1|\u001c",
      "ÃÂg ÃÂtti Gr...|               200|       1538352117000|\"Mozilla/5.0 (Mac...|                 |\n",
      "|    max| ÃÂlafur Arnalds|Logged Out|   Zyonna|     M|              1321|  Wright|       3024.66567|  paid|Winston-Salem, NC|   PUT|Upgrade|       1543247354000|             2474|ÃÂau hafa slopp...|               404|       1543799476000|Mozilla/5.0 (comp...|               99|\n",
      "+-------+------------------+----------+---------+------+------------------+--------+-----------------+------+-----------------+------+-------+--------------------+-----------------+--------------------+------------------+--------------------+--------------------+-----------------+\n",
      "\n"
     ]
    }
   ],
   "source": [
    "df.describe().show()"
   ]
  },
  {
   "cell_type": "code",
   "execution_count": 7,
   "metadata": {},
   "outputs": [
    {
     "name": "stdout",
     "output_type": "stream",
     "text": [
      "+-------+-----------------+-----------------+\n",
      "|summary|           userId|        sessionId|\n",
      "+-------+-----------------+-----------------+\n",
      "|  count|           286500|           286500|\n",
      "|   mean|59682.02278593872|1041.526554973822|\n",
      "| stddev|109091.9499991047|726.7762634630741|\n",
      "|    min|                 |                1|\n",
      "|    max|               99|             2474|\n",
      "+-------+-----------------+-----------------+\n",
      "\n"
     ]
    }
   ],
   "source": [
    "# A closer look at userId and sessionId as these are our two important keys that we will use for the analysis\n",
    "# UserId seem to have some empty cells - to be examined more in detail below.\n",
    "df.describe(\"userId\", \"sessionId\").show()"
   ]
  },
  {
   "cell_type": "code",
   "execution_count": 8,
   "metadata": {},
   "outputs": [
    {
     "name": "stdout",
     "output_type": "stream",
     "text": [
      "+--------------------+\n",
      "|                page|\n",
      "+--------------------+\n",
      "|               About|\n",
      "|          Add Friend|\n",
      "|     Add to Playlist|\n",
      "|              Cancel|\n",
      "|Cancellation Conf...|\n",
      "|           Downgrade|\n",
      "|               Error|\n",
      "|                Help|\n",
      "|                Home|\n",
      "|               Login|\n",
      "|              Logout|\n",
      "|            NextSong|\n",
      "|            Register|\n",
      "|         Roll Advert|\n",
      "|       Save Settings|\n",
      "|            Settings|\n",
      "|    Submit Downgrade|\n",
      "| Submit Registration|\n",
      "|      Submit Upgrade|\n",
      "|         Thumbs Down|\n",
      "|           Thumbs Up|\n",
      "|             Upgrade|\n",
      "+--------------------+\n",
      "\n"
     ]
    }
   ],
   "source": [
    "# list all available pages that users in the log file visited\n",
    "df.select(\"page\").dropDuplicates().sort(\"page\").show(100)"
   ]
  },
  {
   "cell_type": "code",
   "execution_count": 9,
   "metadata": {},
   "outputs": [
    {
     "name": "stdout",
     "output_type": "stream",
     "text": [
      "+------+----+---------+------+-------------+--------+------+-----+--------+------+----+------------+---------+-----+------+---+---------+------+\n",
      "|artist|auth|firstName|gender|itemInSession|lastName|length|level|location|method|page|registration|sessionId| song|status| ts|userAgent|userId|\n",
      "+------+----+---------+------+-------------+--------+------+-----+--------+------+----+------------+---------+-----+------+---+---------+------+\n",
      "| 58392|   0|     8346|  8346|            0|    8346| 58392|    0|    8346|     0|   0|        8346|        0|58392|     0|  0|     8346|     0|\n",
      "+------+----+---------+------+-------------+--------+------+-----+--------+------+----+------------+---------+-----+------+---+---------+------+\n",
      "\n"
     ]
    }
   ],
   "source": [
    "# Check where we have null values (not empty cells)\n",
    "df.select([count(when(isnull(c), c)).alias(c) for c in df.columns]).show()"
   ]
  },
  {
   "cell_type": "code",
   "execution_count": 10,
   "metadata": {},
   "outputs": [
    {
     "data": {
      "text/plain": [
       "286500"
      ]
     },
     "execution_count": 10,
     "metadata": {},
     "output_type": "execute_result"
    }
   ],
   "source": [
    "# total number of log events\n",
    "df.count()"
   ]
  },
  {
   "cell_type": "code",
   "execution_count": 11,
   "metadata": {},
   "outputs": [
    {
     "name": "stdout",
     "output_type": "stream",
     "text": [
      "Number of null values in userId column:  0\n",
      "Number of null values in sessionId column:  0\n"
     ]
    }
   ],
   "source": [
    "# check number of null values in userId and sessionId\n",
    "print(\"Number of null values in userId column: \", format(df.where(col('userId').isNull()).count()))\n",
    "print(\"Number of null values in sessionId column: \", format(df.where(col('sessionId').isNull()).count()))"
   ]
  },
  {
   "cell_type": "code",
   "execution_count": 12,
   "metadata": {},
   "outputs": [
    {
     "name": "stdout",
     "output_type": "stream",
     "text": [
      "Number of empty values in userId column:  8346\n",
      "Number of empty values in sessionId column:  0\n"
     ]
    }
   ],
   "source": [
    "# check number of empty cells in userId and sessionId\n",
    "print(\"Number of empty values in userId column: \", format(df.where(col('userId') == \"\").count()))\n",
    "print(\"Number of empty values in sessionId column: \", format(df.where(col('sessionId') == \"\").count()))"
   ]
  },
  {
   "cell_type": "code",
   "execution_count": 13,
   "metadata": {},
   "outputs": [],
   "source": [
    "# clean up: remove all rows where the userId is empty as these are from events where a user was \n",
    "# not logged in which is non-relevant for our churn analysis\n",
    "df_clean = df.filter(df.userId != \"\")"
   ]
  },
  {
   "cell_type": "code",
   "execution_count": 14,
   "metadata": {},
   "outputs": [
    {
     "name": "stdout",
     "output_type": "stream",
     "text": [
      "+-------+-----------------+------------------+\n",
      "|summary|           userId|         sessionId|\n",
      "+-------+-----------------+------------------+\n",
      "|  count|           278154|            278154|\n",
      "|   mean|59682.02278593872|1042.5616241362698|\n",
      "| stddev|109091.9499991047| 726.5010362219813|\n",
      "|    min|               10|                 1|\n",
      "|    max|               99|              2474|\n",
      "+-------+-----------------+------------------+\n",
      "\n"
     ]
    }
   ],
   "source": [
    "df_clean.describe(\"userId\", \"sessionId\").show()"
   ]
  },
  {
   "cell_type": "code",
   "execution_count": 15,
   "metadata": {},
   "outputs": [
    {
     "data": {
      "text/plain": [
       "278154"
      ]
     },
     "execution_count": 15,
     "metadata": {},
     "output_type": "execute_result"
    }
   ],
   "source": [
    "# number of log events after clean up\n",
    "df_clean.count()"
   ]
  },
  {
   "cell_type": "code",
   "execution_count": 16,
   "metadata": {},
   "outputs": [],
   "source": [
    "# Add the hour of day when the song was played to the data frame as a feature\n",
    "get_hour = udf(lambda x: datetime.datetime.fromtimestamp(x / 1000.0). hour)\n",
    "df_clean = df_clean.withColumn(\"hour\", get_hour(df_clean.ts))"
   ]
  },
  {
   "cell_type": "markdown",
   "metadata": {},
   "source": [
    "# Exploratory Data Analysis\n",
    "When you're working with the full dataset, perform EDA by loading a small subset of the data and doing basic manipulations within Spark. In this workspace, you are already provided a small subset of data you can explore.\n",
    "\n",
    "### Define Churn\n",
    "\n",
    "Once you've done some preliminary analysis, create a column `Churn` to use as the label for your model. I suggest using the `Cancellation Confirmation` events to define your churn, which happen for both paid and free users. As a bonus task, you can also look into the `Downgrade` events.\n",
    "\n",
    "### Explore Data\n",
    "Once you've defined churn, perform some exploratory data analysis to observe the behavior for users who stayed vs users who churned. You can start by exploring aggregates on these two groups of users, observing how much of a specific action they experienced per a certain time unit or number of songs played."
   ]
  },
  {
   "cell_type": "code",
   "execution_count": 17,
   "metadata": {},
   "outputs": [
    {
     "data": {
      "text/plain": [
       "225"
      ]
     },
     "execution_count": 17,
     "metadata": {},
     "output_type": "execute_result"
    }
   ],
   "source": [
    "# Get the number of users in the data set for all pages\n",
    "df_clean.select('userId').distinct().count()"
   ]
  },
  {
   "cell_type": "code",
   "execution_count": 18,
   "metadata": {},
   "outputs": [
    {
     "data": {
      "text/plain": [
       "52"
      ]
     },
     "execution_count": 18,
     "metadata": {},
     "output_type": "execute_result"
    }
   ],
   "source": [
    "# Get the number of users that visited the page cancellation confirmation\n",
    "df_clean.filter(\"page == 'Cancellation Confirmation'\").select('userId').distinct().count()"
   ]
  },
  {
   "cell_type": "code",
   "execution_count": 19,
   "metadata": {},
   "outputs": [
    {
     "data": {
      "text/plain": [
       "154"
      ]
     },
     "execution_count": 19,
     "metadata": {},
     "output_type": "execute_result"
    }
   ],
   "source": [
    "# Get the number of users that visited the page downgrade\n",
    "df_clean.filter(\"page == 'Downgrade'\").select('userId').distinct().count()"
   ]
  },
  {
   "cell_type": "code",
   "execution_count": 20,
   "metadata": {},
   "outputs": [],
   "source": [
    "# Filter the data frame to only contain churn events\n",
    "df_churn = df_clean.where(df_clean.auth==\"Cancelled\")"
   ]
  },
  {
   "cell_type": "code",
   "execution_count": 21,
   "metadata": {},
   "outputs": [
    {
     "name": "stdout",
     "output_type": "stream",
     "text": [
      "+------+---------+--------------------+-----+----+---------+\n",
      "|userId|sessionId|                page|level|hour|     auth|\n",
      "+------+---------+--------------------+-----+----+---------+\n",
      "|    18|      514|Cancellation Conf...| paid|  22|Cancelled|\n",
      "|    32|      540|Cancellation Conf...| paid|  23|Cancelled|\n",
      "|   125|      174|Cancellation Conf...| free|   6|Cancelled|\n",
      "|   105|      508|Cancellation Conf...| paid|  22|Cancelled|\n",
      "|    17|      797|Cancellation Conf...| paid|  23|Cancelled|\n",
      "|   143|      843|Cancellation Conf...| free|   9|Cancelled|\n",
      "|   101|      842|Cancellation Conf...| paid|   0|Cancelled|\n",
      "|   129|      802|Cancellation Conf...| paid|   2|Cancelled|\n",
      "|   121|      881|Cancellation Conf...| paid|   9|Cancelled|\n",
      "|    51|      934|Cancellation Conf...| paid|   9|Cancelled|\n",
      "|    87|     1092|Cancellation Conf...| paid|  17|Cancelled|\n",
      "|   122|     1029|Cancellation Conf...| paid|  21|Cancelled|\n",
      "|    12|     1072|Cancellation Conf...| paid|   9|Cancelled|\n",
      "|    58|     1112|Cancellation Conf...| paid|  17|Cancelled|\n",
      "|    73|     1059|Cancellation Conf...| paid|  19|Cancelled|\n",
      "|     3|     1324|Cancellation Conf...| paid|   5|Cancelled|\n",
      "|   106|     1383|Cancellation Conf...| paid|  14|Cancelled|\n",
      "|   103|     1583|Cancellation Conf...| paid|  15|Cancelled|\n",
      "|    28|     1519|Cancellation Conf...| paid|   1|Cancelled|\n",
      "|    54|     1819|Cancellation Conf...| paid|  20|Cancelled|\n",
      "|    29|     1864|Cancellation Conf...| paid|   8|Cancelled|\n",
      "|    70|     1940|Cancellation Conf...| paid|  23|Cancelled|\n",
      "|    53|     2003|Cancellation Conf...| paid|  13|Cancelled|\n",
      "|100011|       40|Cancellation Conf...| free|  20|Cancelled|\n",
      "|100001|       53|Cancellation Conf...| free|  18|Cancelled|\n",
      "|100024|       42|Cancellation Conf...| free|   1|Cancelled|\n",
      "|100006|        6|Cancellation Conf...| free|  17|Cancelled|\n",
      "|100019|       71|Cancellation Conf...| free|   0|Cancelled|\n",
      "|100003|       86|Cancellation Conf...| free|  18|Cancelled|\n",
      "|100023|      109|Cancellation Conf...| paid|   2|Cancelled|\n",
      "|100005|      115|Cancellation Conf...| free|  19|Cancelled|\n",
      "|100017|       17|Cancellation Conf...| free|  21|Cancelled|\n",
      "|100025|      129|Cancellation Conf...| free|  14|Cancelled|\n",
      "|100009|      145|Cancellation Conf...| free|   5|Cancelled|\n",
      "|100012|      156|Cancellation Conf...| free|  20|Cancelled|\n",
      "|100013|      165|Cancellation Conf...| paid|  19|Cancelled|\n",
      "|100022|      191|Cancellation Conf...| free|  17|Cancelled|\n",
      "|100014|      185|Cancellation Conf...| paid|  20|Cancelled|\n",
      "|100015|      188|Cancellation Conf...| paid|  16|Cancelled|\n",
      "|100021|      172|Cancellation Conf...| free|  12|Cancelled|\n",
      "|100007|      205|Cancellation Conf...| paid|  12|Cancelled|\n",
      "|200001|      136|Cancellation Conf...| free|  20|Cancelled|\n",
      "|200024|      208|Cancellation Conf...| paid|   5|Cancelled|\n",
      "|200011|      267|Cancellation Conf...| free|   2|Cancelled|\n",
      "|200021|      276|Cancellation Conf...| paid|   6|Cancelled|\n",
      "|200018|      268|Cancellation Conf...| free|  11|Cancelled|\n",
      "|200015|      270|Cancellation Conf...| free|   8|Cancelled|\n",
      "|200017|      301|Cancellation Conf...| paid|  21|Cancelled|\n",
      "|200016|      347|Cancellation Conf...| free|   9|Cancelled|\n",
      "|200020|      351|Cancellation Conf...| free|  17|Cancelled|\n",
      "|300007|       44|Cancellation Conf...| paid|   4|Cancelled|\n",
      "|300001|      397|Cancellation Conf...| paid|  22|Cancelled|\n",
      "+------+---------+--------------------+-----+----+---------+\n",
      "\n"
     ]
    }
   ],
   "source": [
    "df_churn.select(['userId', 'sessionId','page', 'level','hour', 'auth']).show(100)"
   ]
  },
  {
   "cell_type": "code",
   "execution_count": 22,
   "metadata": {},
   "outputs": [],
   "source": [
    "# create a churn column in the dataframe that is 1 for all the events that are from users that have churned\n",
    "list_churnusers = [(row['userId']) for row in df_churn.collect()]\n",
    "\n",
    "df_clean_churn = df_clean.withColumn(\"churn\", when(col(\"userId\").isin(list_churnusers),1).otherwise(0))"
   ]
  },
  {
   "cell_type": "code",
   "execution_count": 23,
   "metadata": {},
   "outputs": [
    {
     "data": {
      "text/plain": [
       "[Row(artist='Martha Tilston', auth='Logged In', firstName='Colin', gender='M', itemInSession=50, lastName='Freeman', length=277.89016, level='paid', location='Bakersfield, CA', method='PUT', page='NextSong', registration=1538173362000, sessionId=29, song='Rockpools', status=200, ts=1538352117000, userAgent='Mozilla/5.0 (Windows NT 6.1; WOW64; rv:31.0) Gecko/20100101 Firefox/31.0', userId='30', hour='2', churn=0),\n",
       " Row(artist='Five Iron Frenzy', auth='Logged In', firstName='Micah', gender='M', itemInSession=79, lastName='Long', length=236.09424, level='free', location='Boston-Cambridge-Newton, MA-NH', method='PUT', page='NextSong', registration=1538331630000, sessionId=8, song='Canada', status=200, ts=1538352180000, userAgent='\"Mozilla/5.0 (Windows NT 6.1; WOW64) AppleWebKit/537.36 (KHTML, like Gecko) Chrome/37.0.2062.103 Safari/537.36\"', userId='9', hour='2', churn=0)]"
      ]
     },
     "execution_count": 23,
     "metadata": {},
     "output_type": "execute_result"
    }
   ],
   "source": [
    "df_clean_churn.take(2)"
   ]
  },
  {
   "cell_type": "markdown",
   "metadata": {},
   "source": [
    "Ideas for features:\n",
    "- Churns per Gender\n",
    "- Churns per Level\n",
    "- Number of songs listened per session\n",
    "- Number of songs played / total number of events per user\n",
    "- Number of songs added to playlists \n",
    "- Number of friends added\n",
    "- Number of errors\n",
    "- Number of adverts\n",
    "- Number of thumbs up\n",
    "- Number of thumbs down"
   ]
  },
  {
   "cell_type": "code",
   "execution_count": 24,
   "metadata": {},
   "outputs": [
    {
     "name": "stdout",
     "output_type": "stream",
     "text": [
      "+-----+-----+\n",
      "|churn|count|\n",
      "+-----+-----+\n",
      "|    1|   52|\n",
      "|    0|  173|\n",
      "+-----+-----+\n",
      "\n"
     ]
    }
   ],
   "source": [
    "# get some more information on how the features behave for users with or without churn.\n",
    "df_clean_churn.select(['userId','churn']).distinct().groupBy('churn').count().show()\n"
   ]
  },
  {
   "cell_type": "code",
   "execution_count": 25,
   "metadata": {},
   "outputs": [
    {
     "name": "stdout",
     "output_type": "stream",
     "text": [
      "+------+-----+-----+\n",
      "|gender|churn|count|\n",
      "+------+-----+-----+\n",
      "|     M|    1|   32|\n",
      "|     F|    0|   84|\n",
      "|     F|    1|   20|\n",
      "|     M|    0|   89|\n",
      "+------+-----+-----+\n",
      "\n"
     ]
    }
   ],
   "source": [
    "df_clean_churn.select(['userId','gender','churn']).distinct().groupBy('gender', 'churn').count().show()\n"
   ]
  },
  {
   "cell_type": "code",
   "execution_count": 26,
   "metadata": {},
   "outputs": [
    {
     "name": "stdout",
     "output_type": "stream",
     "text": [
      "+-----+-----+-----+\n",
      "|level|churn|count|\n",
      "+-----+-----+-----+\n",
      "| paid|    0|  129|\n",
      "| free|    0|  149|\n",
      "| paid|    1|   36|\n",
      "| free|    1|   46|\n",
      "+-----+-----+-----+\n",
      "\n"
     ]
    }
   ],
   "source": [
    "df_clean_churn.select(['userId','level','churn']).distinct().groupBy('level', 'churn').count().show()\n"
   ]
  },
  {
   "cell_type": "code",
   "execution_count": 27,
   "metadata": {},
   "outputs": [
    {
     "name": "stdout",
     "output_type": "stream",
     "text": [
      "+-----+-----+\n",
      "|churn|count|\n",
      "+-----+-----+\n",
      "|    1|  537|\n",
      "|    0| 2639|\n",
      "+-----+-----+\n",
      "\n"
     ]
    }
   ],
   "source": [
    "df_clean_churn.select(['userId', 'sessionId','churn']).distinct().groupBy('churn').count().show()\n"
   ]
  },
  {
   "cell_type": "code",
   "execution_count": 28,
   "metadata": {},
   "outputs": [
    {
     "name": "stdout",
     "output_type": "stream",
     "text": [
      "+-----+-----+\n",
      "|churn|count|\n",
      "+-----+-----+\n",
      "|    1|   52|\n",
      "|    0|  173|\n",
      "+-----+-----+\n",
      "\n"
     ]
    }
   ],
   "source": [
    "df_clean_churn.where('page=\"NextSong\"').select(['userId', 'churn']).distinct().groupBy('churn').count().show()"
   ]
  },
  {
   "cell_type": "code",
   "execution_count": 29,
   "metadata": {},
   "outputs": [
    {
     "name": "stdout",
     "output_type": "stream",
     "text": [
      "+-----+-----+\n",
      "|churn|count|\n",
      "+-----+-----+\n",
      "|    1|   44|\n",
      "|    0|  162|\n",
      "+-----+-----+\n",
      "\n"
     ]
    }
   ],
   "source": [
    "df_clean_churn.where('page=\"Add Friend\"').select(['userId', 'churn']).distinct().groupBy('churn').count().show()"
   ]
  },
  {
   "cell_type": "code",
   "execution_count": 30,
   "metadata": {},
   "outputs": [
    {
     "name": "stdout",
     "output_type": "stream",
     "text": [
      "+-----+-----+\n",
      "|churn|count|\n",
      "+-----+-----+\n",
      "|    1|   50|\n",
      "|    0|  165|\n",
      "+-----+-----+\n",
      "\n"
     ]
    }
   ],
   "source": [
    "df_clean_churn.where('page=\"Add to Playlist\"').select(['userId', 'churn']).distinct().groupBy('churn').count().show()"
   ]
  },
  {
   "cell_type": "code",
   "execution_count": 31,
   "metadata": {},
   "outputs": [
    {
     "name": "stdout",
     "output_type": "stream",
     "text": [
      "+-----+-----+\n",
      "|churn|count|\n",
      "+-----+-----+\n",
      "|    1|   22|\n",
      "|    0|   95|\n",
      "+-----+-----+\n",
      "\n"
     ]
    }
   ],
   "source": [
    "df_clean_churn.where('page=\"Error\"').select(['userId', 'churn']).distinct().groupBy('churn').count().show()"
   ]
  },
  {
   "cell_type": "code",
   "execution_count": 32,
   "metadata": {},
   "outputs": [
    {
     "name": "stdout",
     "output_type": "stream",
     "text": [
      "+-----+-----+\n",
      "|churn|count|\n",
      "+-----+-----+\n",
      "|    1|   50|\n",
      "|    0|  157|\n",
      "+-----+-----+\n",
      "\n"
     ]
    }
   ],
   "source": [
    "df_clean_churn.where('page=\"Roll Advert\"').select(['userId', 'churn']).distinct().groupBy('churn').count().show()"
   ]
  },
  {
   "cell_type": "code",
   "execution_count": 33,
   "metadata": {},
   "outputs": [
    {
     "name": "stdout",
     "output_type": "stream",
     "text": [
      "+-----+-----+\n",
      "|churn|count|\n",
      "+-----+-----+\n",
      "|    1|   50|\n",
      "|    0|  170|\n",
      "+-----+-----+\n",
      "\n"
     ]
    }
   ],
   "source": [
    "df_clean_churn.where('page=\"Thumbs Up\"').select(['userId', 'churn']).distinct().groupBy('churn').count().show()"
   ]
  },
  {
   "cell_type": "code",
   "execution_count": 34,
   "metadata": {},
   "outputs": [
    {
     "name": "stdout",
     "output_type": "stream",
     "text": [
      "+-----+-----+\n",
      "|churn|count|\n",
      "+-----+-----+\n",
      "|    1|   48|\n",
      "|    0|  155|\n",
      "+-----+-----+\n",
      "\n"
     ]
    }
   ],
   "source": [
    "df_clean_churn.where('page=\"Thumbs Down\"').select(['userId', 'churn']).distinct().groupBy('churn').count().show()"
   ]
  },
  {
   "cell_type": "markdown",
   "metadata": {},
   "source": [
    "# Feature Engineering\n",
    "Once you've familiarized yourself with the data, build out the features you find promising to train your model on. To work with the full dataset, you can follow the following steps.\n",
    "- Write a script to extract the necessary features from the smaller subset of data\n",
    "- Ensure that your script is scalable, using the best practices discussed in Lesson 3\n",
    "- Try your script on the full data set, debugging your script if necessary\n",
    "\n",
    "If you are working in the classroom workspace, you can just extract features based on the small subset of data contained here. Be sure to transfer over this work to the larger dataset when you work on your Spark cluster."
   ]
  },
  {
   "cell_type": "code",
   "execution_count": 35,
   "metadata": {},
   "outputs": [
    {
     "name": "stdout",
     "output_type": "stream",
     "text": [
      "+------+------+\n",
      "|userId|gender|\n",
      "+------+------+\n",
      "|    44|     0|\n",
      "|    46|     0|\n",
      "|    41|     0|\n",
      "|    72|     0|\n",
      "|300023|     0|\n",
      "|    39|     0|\n",
      "|100010|     0|\n",
      "|    40|     0|\n",
      "|    94|     0|\n",
      "|    35|     0|\n",
      "|    75|     0|\n",
      "|   116|     0|\n",
      "|200001|     1|\n",
      "|200020|     1|\n",
      "|100008|     0|\n",
      "|200015|     1|\n",
      "|   100|     1|\n",
      "|100006|     0|\n",
      "|300005|     0|\n",
      "|    25|     0|\n",
      "+------+------+\n",
      "only showing top 20 rows\n",
      "\n"
     ]
    }
   ],
   "source": [
    "# Now its time create the features for each userId\n",
    "# Feature 1: Gender\n",
    "f1 = df_clean_churn.select('userId', 'gender').dropDuplicates().replace(['F', 'M'], ['0', '1'], 'gender').select('userId', col('gender').cast('int'))\n",
    "\n",
    "f1.show()"
   ]
  },
  {
   "cell_type": "code",
   "execution_count": 36,
   "metadata": {},
   "outputs": [
    {
     "data": {
      "image/png": "[encoded data removed]",
      "text/plain": [
       "<Figure size 216x216 with 1 Axes>"
      ]
     },
     "metadata": {
      "needs_background": "light"
     },
     "output_type": "display_data"
    }
   ],
   "source": [
    "f1p = f1.toPandas()\n",
    "g = sns.FacetGrid(f1p)\n",
    "g.map(plt.hist, \"gender\");"
   ]
  },
  {
   "cell_type": "code",
   "execution_count": 37,
   "metadata": {},
   "outputs": [
    {
     "name": "stdout",
     "output_type": "stream",
     "text": [
      "+------+-----+\n",
      "|userId|level|\n",
      "+------+-----+\n",
      "|100021|    0|\n",
      "|200021|    0|\n",
      "|200001|    0|\n",
      "|     6|    0|\n",
      "|300022|    1|\n",
      "|   132|    0|\n",
      "|   112|    0|\n",
      "|    79|    0|\n",
      "|200008|    0|\n",
      "|    16|    1|\n",
      "|200007|    1|\n",
      "|300015|    0|\n",
      "|    39|    0|\n",
      "|300014|    1|\n",
      "|    61|    0|\n",
      "|    56|    1|\n",
      "|300014|    0|\n",
      "|   100|    1|\n",
      "|300024|    1|\n",
      "|300023|    1|\n",
      "+------+-----+\n",
      "only showing top 20 rows\n",
      "\n"
     ]
    }
   ],
   "source": [
    "# Feature 2: Level\n",
    "f2 = df_clean_churn.select('userId', 'level').dropDuplicates().replace(['free', 'paid'], ['0', '1'], 'level').select('userId', col('level').cast('int'))\n",
    "\n",
    "f2.show()"
   ]
  },
  {
   "cell_type": "code",
   "execution_count": 38,
   "metadata": {},
   "outputs": [
    {
     "data": {
      "image/png": "[encoded data removed]",
      "text/plain": [
       "<Figure size 216x216 with 1 Axes>"
      ]
     },
     "metadata": {
      "needs_background": "light"
     },
     "output_type": "display_data"
    }
   ],
   "source": [
    "f2p = f2.toPandas()\n",
    "g = sns.FacetGrid(f2p)\n",
    "g.map(plt.hist, \"level\");"
   ]
  },
  {
   "cell_type": "code",
   "execution_count": 39,
   "metadata": {},
   "outputs": [
    {
     "name": "stdout",
     "output_type": "stream",
     "text": [
      "+------+------------------+\n",
      "|userId| songs_per_session|\n",
      "+------+------------------+\n",
      "|100010|39.285714285714285|\n",
      "|200002|              64.5|\n",
      "|   125|               8.0|\n",
      "|    51|             211.1|\n",
      "|   124|145.67857142857142|\n",
      "|     7|21.428571428571427|\n",
      "|    54| 81.17142857142858|\n",
      "|    15|136.71428571428572|\n",
      "|   155|136.66666666666666|\n",
      "|100014|42.833333333333336|\n",
      "|   132|             120.5|\n",
      "|   154|              28.0|\n",
      "|   101|             179.7|\n",
      "|    11|           40.4375|\n",
      "|300017|59.540983606557376|\n",
      "|   138|             138.0|\n",
      "|    29| 89.05882352941177|\n",
      "|    69|             125.0|\n",
      "|100021|              46.0|\n",
      "|    42| 87.14634146341463|\n",
      "+------+------------------+\n",
      "only showing top 20 rows\n",
      "\n"
     ]
    }
   ],
   "source": [
    "# Feature 3: Number of songs listened per session\n",
    "f3  = df_clean_churn.where(df_clean_churn.page == \"NextSong\").groupby(['userId', 'sessionId']).count().groupby('userId').agg({'count' : 'avg'}).withColumnRenamed('avg(count)', 'songs_per_session')\n",
    "\n",
    "f3.show()"
   ]
  },
  {
   "cell_type": "code",
   "execution_count": 40,
   "metadata": {},
   "outputs": [
    {
     "data": {
      "image/png": "[encoded data removed]",
      "text/plain": [
       "<Figure size 216x216 with 1 Axes>"
      ]
     },
     "metadata": {
      "needs_background": "light"
     },
     "output_type": "display_data"
    }
   ],
   "source": [
    "f3p = f3.toPandas()\n",
    "g = sns.FacetGrid(f3p)\n",
    "g.map(plt.hist, \"songs_per_session\");"
   ]
  },
  {
   "cell_type": "code",
   "execution_count": 41,
   "metadata": {},
   "outputs": [
    {
     "name": "stdout",
     "output_type": "stream",
     "text": [
      "+------+-----------+\n",
      "|userId|total_songs|\n",
      "+------+-----------+\n",
      "|100010|        381|\n",
      "|200002|        474|\n",
      "|   125|         11|\n",
      "|    51|       2464|\n",
      "|   124|       4825|\n",
      "|     7|        201|\n",
      "|    54|       3437|\n",
      "|    15|       2278|\n",
      "|   155|       1002|\n",
      "|   132|       2304|\n",
      "|   154|        118|\n",
      "|100014|        310|\n",
      "|   101|       2149|\n",
      "|    11|        848|\n",
      "|   138|       2469|\n",
      "|300017|       4428|\n",
      "|    29|       3603|\n",
      "|    69|       1342|\n",
      "|100021|        319|\n",
      "|    42|       4257|\n",
      "+------+-----------+\n",
      "only showing top 20 rows\n",
      "\n"
     ]
    }
   ],
   "source": [
    "# Feature 4 : Number of songs played / total number of events per user\n",
    "f4 = df_clean_churn.select('userId', 'song').groupBy('userId').count().withColumnRenamed('count', 'total_songs')\n",
    "f4.show()"
   ]
  },
  {
   "cell_type": "code",
   "execution_count": 42,
   "metadata": {},
   "outputs": [
    {
     "data": {
      "image/png": "[encoded data removed]",
      "text/plain": [
       "<Figure size 216x216 with 1 Axes>"
      ]
     },
     "metadata": {
      "needs_background": "light"
     },
     "output_type": "display_data"
    }
   ],
   "source": [
    "f4p = f4.toPandas()\n",
    "g = sns.FacetGrid(f4p)\n",
    "g.map(plt.hist, \"total_songs\");"
   ]
  },
  {
   "cell_type": "code",
   "execution_count": 43,
   "metadata": {},
   "outputs": [
    {
     "name": "stdout",
     "output_type": "stream",
     "text": [
      "+------+-------------+\n",
      "|userId|playlist_adds|\n",
      "+------+-------------+\n",
      "|100010|            7|\n",
      "|200002|            8|\n",
      "|    51|           52|\n",
      "|   124|          118|\n",
      "|     7|            5|\n",
      "|    15|           59|\n",
      "|    54|           72|\n",
      "|   155|           24|\n",
      "|   132|           38|\n",
      "|   154|            1|\n",
      "|100014|            7|\n",
      "|   101|           61|\n",
      "|    11|           20|\n",
      "|   138|           67|\n",
      "|300017|          113|\n",
      "|    29|           89|\n",
      "|    69|           33|\n",
      "|100021|            7|\n",
      "|    42|          104|\n",
      "|   112|            7|\n",
      "+------+-------------+\n",
      "only showing top 20 rows\n",
      "\n"
     ]
    }
   ],
   "source": [
    "# Feature 5: Number of songs added to playlists\n",
    "f5 = df_clean_churn.select('userId', 'page').where(df_clean_churn.page == 'Add to Playlist').groupBy('userId').count().withColumnRenamed('count', 'playlist_adds')\n",
    "f5.show()"
   ]
  },
  {
   "cell_type": "code",
   "execution_count": 44,
   "metadata": {},
   "outputs": [
    {
     "data": {
      "image/png": "[encoded data removed]",
      "text/plain": [
       "<Figure size 216x216 with 1 Axes>"
      ]
     },
     "metadata": {
      "needs_background": "light"
     },
     "output_type": "display_data"
    }
   ],
   "source": [
    "f5p = f5.toPandas()\n",
    "g = sns.FacetGrid(f5p)\n",
    "g.map(plt.hist, \"playlist_adds\");"
   ]
  },
  {
   "cell_type": "code",
   "execution_count": 45,
   "metadata": {},
   "outputs": [
    {
     "name": "stdout",
     "output_type": "stream",
     "text": [
      "+------+-------------+\n",
      "|userId|friends_added|\n",
      "+------+-------------+\n",
      "|100010|            4|\n",
      "|200002|            4|\n",
      "|    51|           28|\n",
      "|   124|           74|\n",
      "|     7|            1|\n",
      "|    54|           33|\n",
      "|    15|           31|\n",
      "|   155|           11|\n",
      "|   132|           41|\n",
      "|   154|            3|\n",
      "|100014|            6|\n",
      "|   101|           29|\n",
      "|    11|            6|\n",
      "|   138|           41|\n",
      "|300017|           63|\n",
      "|    29|           47|\n",
      "|    69|           12|\n",
      "|100021|            7|\n",
      "|    42|           52|\n",
      "|   112|            7|\n",
      "+------+-------------+\n",
      "only showing top 20 rows\n",
      "\n"
     ]
    }
   ],
   "source": [
    "# Feature 6: Number of friends added\n",
    "f6 = df_clean_churn.select('userId', 'page').where(df.page == 'Add Friend').groupBy('userId').count().withColumnRenamed('count', 'friends_added')\n",
    "f6.show()"
   ]
  },
  {
   "cell_type": "code",
   "execution_count": 46,
   "metadata": {},
   "outputs": [
    {
     "data": {
      "image/png": "[encoded data removed]",
      "text/plain": [
       "<Figure size 216x216 with 1 Axes>"
      ]
     },
     "metadata": {
      "needs_background": "light"
     },
     "output_type": "display_data"
    }
   ],
   "source": [
    "f6p = f6.toPandas()\n",
    "g = sns.FacetGrid(f6p)\n",
    "g.map(plt.hist, \"friends_added\");"
   ]
  },
  {
   "cell_type": "code",
   "execution_count": 47,
   "metadata": {},
   "outputs": [
    {
     "name": "stdout",
     "output_type": "stream",
     "text": [
      "+------+------+\n",
      "|userId|errors|\n",
      "+------+------+\n",
      "|   124|     6|\n",
      "|    51|     1|\n",
      "|     7|     1|\n",
      "|    15|     2|\n",
      "|    54|     1|\n",
      "|   155|     3|\n",
      "|   132|     3|\n",
      "|   101|     3|\n",
      "|    11|     1|\n",
      "|   138|     1|\n",
      "|300017|     5|\n",
      "|    69|     4|\n",
      "|100021|     2|\n",
      "|    42|     7|\n",
      "|    73|     1|\n",
      "|200010|     1|\n",
      "|    30|     1|\n",
      "|   113|     3|\n",
      "|    59|     4|\n",
      "|   146|     1|\n",
      "+------+------+\n",
      "only showing top 20 rows\n",
      "\n"
     ]
    }
   ],
   "source": [
    "# Feature 7: Number of errors\n",
    "f7 = df_clean_churn.select('userId', 'page').where(df.page == 'Error').groupBy('userId').count().withColumnRenamed('count', 'errors')\n",
    "f7.show()"
   ]
  },
  {
   "cell_type": "code",
   "execution_count": 48,
   "metadata": {},
   "outputs": [
    {
     "data": {
      "image/png": "[encoded data removed]",
      "text/plain": [
       "<Figure size 216x216 with 1 Axes>"
      ]
     },
     "metadata": {
      "needs_background": "light"
     },
     "output_type": "display_data"
    }
   ],
   "source": [
    "f7p = f7.toPandas()\n",
    "g = sns.FacetGrid(f7p)\n",
    "g.map(plt.hist, \"errors\");"
   ]
  },
  {
   "cell_type": "code",
   "execution_count": 49,
   "metadata": {},
   "outputs": [
    {
     "name": "stdout",
     "output_type": "stream",
     "text": [
      "+------+-------+\n",
      "|userId|adverts|\n",
      "+------+-------+\n",
      "|100010|     52|\n",
      "|200002|      7|\n",
      "|   125|      1|\n",
      "|     7|     16|\n",
      "|   124|      4|\n",
      "|    54|     47|\n",
      "|    15|      1|\n",
      "|   155|      8|\n",
      "|   154|     10|\n",
      "|   132|      2|\n",
      "|100014|      2|\n",
      "|   101|      8|\n",
      "|    11|     39|\n",
      "|   138|     17|\n",
      "|300017|     11|\n",
      "|    29|     22|\n",
      "|    69|      3|\n",
      "|100021|     30|\n",
      "|    42|     10|\n",
      "|   112|     21|\n",
      "+------+-------+\n",
      "only showing top 20 rows\n",
      "\n"
     ]
    }
   ],
   "source": [
    "# Feature 8: Number of adverts\n",
    "f8 = df_clean_churn.select('userId', 'page').where(df.page == 'Roll Advert').groupBy('userId').count().withColumnRenamed('count', 'adverts')\n",
    "f8.show()"
   ]
  },
  {
   "cell_type": "code",
   "execution_count": 50,
   "metadata": {},
   "outputs": [
    {
     "data": {
      "image/png": "[encoded data removed]",
      "text/plain": [
       "<Figure size 216x216 with 1 Axes>"
      ]
     },
     "metadata": {
      "needs_background": "light"
     },
     "output_type": "display_data"
    }
   ],
   "source": [
    "f8p = f8.toPandas()\n",
    "g = sns.FacetGrid(f8p)\n",
    "g.map(plt.hist, \"adverts\");"
   ]
  },
  {
   "cell_type": "code",
   "execution_count": 51,
   "metadata": {},
   "outputs": [
    {
     "name": "stdout",
     "output_type": "stream",
     "text": [
      "+------+---------+\n",
      "|userId|thumbs_up|\n",
      "+------+---------+\n",
      "|100010|       17|\n",
      "|200002|       21|\n",
      "|    51|      100|\n",
      "|   124|      171|\n",
      "|     7|        7|\n",
      "|    54|      163|\n",
      "|    15|       81|\n",
      "|   155|       58|\n",
      "|   132|       96|\n",
      "|   154|       11|\n",
      "|100014|       17|\n",
      "|   101|       86|\n",
      "|    11|       40|\n",
      "|   138|       95|\n",
      "|300017|      303|\n",
      "|    29|      154|\n",
      "|    69|       72|\n",
      "|100021|       11|\n",
      "|    42|      166|\n",
      "|   112|        9|\n",
      "+------+---------+\n",
      "only showing top 20 rows\n",
      "\n"
     ]
    }
   ],
   "source": [
    "# Feature 9: Number of thumbs up\n",
    "f9 = df_clean_churn.select('userId', 'page').where(df.page == 'Thumbs Up').groupBy('userId').count().withColumnRenamed('count', 'thumbs_up')\n",
    "f9.show()"
   ]
  },
  {
   "cell_type": "code",
   "execution_count": 52,
   "metadata": {},
   "outputs": [
    {
     "data": {
      "image/png": "[encoded data removed]",
      "text/plain": [
       "<Figure size 216x216 with 1 Axes>"
      ]
     },
     "metadata": {
      "needs_background": "light"
     },
     "output_type": "display_data"
    }
   ],
   "source": [
    "f9p = f9.toPandas()\n",
    "g = sns.FacetGrid(f9p)\n",
    "g.map(plt.hist, \"thumbs_up\");"
   ]
  },
  {
   "cell_type": "code",
   "execution_count": 53,
   "metadata": {},
   "outputs": [
    {
     "name": "stdout",
     "output_type": "stream",
     "text": [
      "+------+-----------+\n",
      "|userId|thumbs_down|\n",
      "+------+-----------+\n",
      "|100010|          5|\n",
      "|200002|          6|\n",
      "|    51|         21|\n",
      "|   124|         41|\n",
      "|     7|          1|\n",
      "|    15|         14|\n",
      "|    54|         29|\n",
      "|   155|          3|\n",
      "|   132|         17|\n",
      "|100014|          3|\n",
      "|   101|         16|\n",
      "|    11|          9|\n",
      "|   138|         24|\n",
      "|300017|         28|\n",
      "|    29|         22|\n",
      "|    69|          9|\n",
      "|100021|          5|\n",
      "|    42|         25|\n",
      "|   112|          3|\n",
      "|    73|          7|\n",
      "+------+-----------+\n",
      "only showing top 20 rows\n",
      "\n"
     ]
    }
   ],
   "source": [
    "# Feature 10: Number of thumbs down\n",
    "f10 = df_clean_churn.select('userId', 'page').where(df.page == 'Thumbs Down').groupBy('userId').count().withColumnRenamed('count', 'thumbs_down')\n",
    "f10.show()"
   ]
  },
  {
   "cell_type": "code",
   "execution_count": 54,
   "metadata": {},
   "outputs": [
    {
     "data": {
      "image/png": "[encoded data removed]",
      "text/plain": [
       "<Figure size 216x216 with 1 Axes>"
      ]
     },
     "metadata": {
      "needs_background": "light"
     },
     "output_type": "display_data"
    }
   ],
   "source": [
    "f10p = f10.toPandas()\n",
    "g = sns.FacetGrid(f10p)\n",
    "g.map(plt.hist, \"thumbs_down\");"
   ]
  },
  {
   "cell_type": "code",
   "execution_count": 55,
   "metadata": {},
   "outputs": [
    {
     "name": "stdout",
     "output_type": "stream",
     "text": [
      "+------+-----+\n",
      "|userId|churn|\n",
      "+------+-----+\n",
      "|    19|    0|\n",
      "|100005|    1|\n",
      "|200007|    0|\n",
      "|300007|    1|\n",
      "|    50|    0|\n",
      "|200002|    0|\n",
      "|    30|    0|\n",
      "|     8|    0|\n",
      "|100011|    1|\n",
      "|100012|    1|\n",
      "|     4|    0|\n",
      "|    65|    0|\n",
      "|   101|    1|\n",
      "|    13|    0|\n",
      "|   153|    0|\n",
      "|    42|    0|\n",
      "|100014|    1|\n",
      "|    94|    0|\n",
      "|    62|    0|\n",
      "|   114|    0|\n",
      "+------+-----+\n",
      "only showing top 20 rows\n",
      "\n"
     ]
    }
   ],
   "source": [
    "churn = df_clean_churn.select('userId', col('churn').alias('churn')).dropDuplicates()\n",
    "churn.show()"
   ]
  },
  {
   "cell_type": "code",
   "execution_count": 56,
   "metadata": {},
   "outputs": [
    {
     "data": {
      "image/png": "[encoded data removed]",
      "text/plain": [
       "<Figure size 216x216 with 1 Axes>"
      ]
     },
     "metadata": {
      "needs_background": "light"
     },
     "output_type": "display_data"
    }
   ],
   "source": [
    "churnp = churn.toPandas()\n",
    "g = sns.FacetGrid(churnp)\n",
    "g.map(plt.hist, \"churn\");"
   ]
  },
  {
   "cell_type": "code",
   "execution_count": 57,
   "metadata": {},
   "outputs": [
    {
     "name": "stdout",
     "output_type": "stream",
     "text": [
      "+------+-----+------------------+-----------+-------------+-------------+------+-------+---------+-----------+-----+\n",
      "|gender|level| songs_per_session|total_songs|playlist_adds|friends_added|errors|adverts|thumbs_up|thumbs_down|churn|\n",
      "+------+-----+------------------+-----------+-------------+-------------+------+-------+---------+-----------+-----+\n",
      "|     0|    1|157.83333333333334|       2220|           61|           36|     1|      1|       76|         10|    0|\n",
      "|     0|    0|              85.0|        117|            3|            3|     1|     10|        6|          1|    0|\n",
      "|     0|    0| 66.55555555555556|       2210|           63|           31|     3|      2|      169|         16|    0|\n",
      "|     0|    1| 66.55555555555556|       2210|           63|           31|     3|      2|      169|         16|    0|\n",
      "|     0|    1| 77.68932038834951|       9632|          240|          122|     7|    128|      388|         69|    0|\n",
      "|     0|    0| 77.68932038834951|       9632|          240|          122|     7|    128|      388|         69|    0|\n",
      "|     0|    0| 44.72222222222222|       2005|           64|           31|     3|     55|       71|         14|    0|\n",
      "|     0|    1| 44.72222222222222|       2005|           64|           31|     3|     55|       71|         14|    0|\n",
      "|     0|    1|             101.5|        957|           27|           21|     1|      1|       48|          4|    0|\n",
      "|     1|    0|              25.8|        349|           13|            2|     1|     22|       10|         10|    1|\n",
      "|     1|    0| 78.88235294117646|       3214|           61|           49|     3|     25|      148|         27|    0|\n",
      "|     1|    1| 78.88235294117646|       3214|           61|           49|     3|     25|      148|         27|    0|\n",
      "|     0|    1|              52.0|        394|            9|            8|     1|      2|       35|          4|    0|\n",
      "|     0|    0|              52.0|        394|            9|            8|     1|      2|       35|          4|    0|\n",
      "|     0|    1| 70.77380952380952|       7230|          181|          110|     3|     85|      292|         72|    0|\n",
      "|     0|    0| 70.77380952380952|       7230|          181|          110|     3|     85|      292|         72|    0|\n",
      "|     1|    0| 71.81818181818181|       1026|           16|           24|     1|     37|       48|         27|    0|\n",
      "|     1|    1| 71.81818181818181|       1026|           16|           24|     1|     37|       48|         27|    0|\n",
      "|     1|    1|            104.75|       1529|           33|           31|     1|      1|       79|          9|    0|\n",
      "|     0|    1| 87.14634146341463|       4257|          104|           52|     7|     10|      166|         25|    0|\n",
      "+------+-----+------------------+-----------+-------------+-------------+------+-------+---------+-----------+-----+\n",
      "only showing top 20 rows\n",
      "\n"
     ]
    }
   ],
   "source": [
    "# as a final step we combine all the features with the churn column into a feature_data dataframe\n",
    "feature_data = f1.join(f2, 'userId', 'inner').join(f3, 'userId', 'inner').join(f4, 'userId', 'inner')\\\n",
    "             .join(f5, 'userId', 'inner').join(f6, 'userId', 'inner').join(f7, 'userId', 'inner')\\\n",
    "             .join(f8, 'userId', 'inner').join(f9, 'userId', 'inner').join(f10, 'userId', 'inner').join(churn, 'userId', 'inner').drop('userId')\n",
    "\n",
    "feature_data.show()"
   ]
  },
  {
   "cell_type": "code",
   "execution_count": 58,
   "metadata": {},
   "outputs": [
    {
     "name": "stdout",
     "output_type": "stream",
     "text": [
      "root\n",
      " |-- gender: integer (nullable = true)\n",
      " |-- level: integer (nullable = true)\n",
      " |-- songs_per_session: double (nullable = true)\n",
      " |-- total_songs: long (nullable = false)\n",
      " |-- playlist_adds: long (nullable = false)\n",
      " |-- friends_added: long (nullable = false)\n",
      " |-- errors: long (nullable = false)\n",
      " |-- adverts: long (nullable = false)\n",
      " |-- thumbs_up: long (nullable = false)\n",
      " |-- thumbs_down: long (nullable = false)\n",
      " |-- churn: integer (nullable = false)\n",
      "\n"
     ]
    }
   ],
   "source": [
    "# show the schema of our feature data frame\n",
    "feature_data.printSchema()"
   ]
  },
  {
   "cell_type": "code",
   "execution_count": 59,
   "metadata": {},
   "outputs": [
    {
     "name": "stdout",
     "output_type": "stream",
     "text": [
      "+------+-----+-----------------+-----------+-------------+-------------+------+-------+---------+-----------+-----+\n",
      "|gender|level|songs_per_session|total_songs|playlist_adds|friends_added|errors|adverts|thumbs_up|thumbs_down|churn|\n",
      "+------+-----+-----------------+-----------+-------------+-------------+------+-------+---------+-----------+-----+\n",
      "|     0|    0|                0|          0|            0|            0|     0|      0|        0|          0|    0|\n",
      "+------+-----+-----------------+-----------+-------------+-------------+------+-------+---------+-----------+-----+\n",
      "\n"
     ]
    }
   ],
   "source": [
    "# check for null values.\n",
    "feature_data.select([count(when(isnull(c), c)).alias(c) for c in feature_data.columns]).show()"
   ]
  },
  {
   "cell_type": "markdown",
   "metadata": {},
   "source": [
    "# Modeling\n",
    "Split the full dataset into train, test, and validation sets. Test out several of the machine learning methods you learned. Evaluate the accuracy of the various models, tuning parameters as necessary. Determine your winning model based on test accuracy and report results on the validation set. Since the churned users are a fairly small subset, I suggest using F1 score as the metric to optimize."
   ]
  },
  {
   "cell_type": "code",
   "execution_count": 60,
   "metadata": {},
   "outputs": [
    {
     "name": "stdout",
     "output_type": "stream",
     "text": [
      "+------+-----+------------------+-----------+-------------+-------------+------+-------+---------+-----------+-----+--------------------+\n",
      "|gender|level| songs_per_session|total_songs|playlist_adds|friends_added|errors|adverts|thumbs_up|thumbs_down|churn| vectorized_features|\n",
      "+------+-----+------------------+-----------+-------------+-------------+------+-------+---------+-----------+-----+--------------------+\n",
      "|     0|    1|157.83333333333334|       2220|           61|           36|     1|      1|       76|         10|    0|[0.0,1.0,157.8333...|\n",
      "|     0|    0|              85.0|        117|            3|            3|     1|     10|        6|          1|    0|[0.0,0.0,85.0,117...|\n",
      "|     0|    0| 66.55555555555556|       2210|           63|           31|     3|      2|      169|         16|    0|[0.0,0.0,66.55555...|\n",
      "|     0|    1| 66.55555555555556|       2210|           63|           31|     3|      2|      169|         16|    0|[0.0,1.0,66.55555...|\n",
      "|     0|    1| 77.68932038834951|       9632|          240|          122|     7|    128|      388|         69|    0|[0.0,1.0,77.68932...|\n",
      "|     0|    0| 77.68932038834951|       9632|          240|          122|     7|    128|      388|         69|    0|[0.0,0.0,77.68932...|\n",
      "|     0|    0| 44.72222222222222|       2005|           64|           31|     3|     55|       71|         14|    0|[0.0,0.0,44.72222...|\n",
      "|     0|    1| 44.72222222222222|       2005|           64|           31|     3|     55|       71|         14|    0|[0.0,1.0,44.72222...|\n",
      "|     0|    1|             101.5|        957|           27|           21|     1|      1|       48|          4|    0|[0.0,1.0,101.5,95...|\n",
      "|     1|    0|              25.8|        349|           13|            2|     1|     22|       10|         10|    1|[1.0,0.0,25.8,349...|\n",
      "|     1|    0| 78.88235294117646|       3214|           61|           49|     3|     25|      148|         27|    0|[1.0,0.0,78.88235...|\n",
      "|     1|    1| 78.88235294117646|       3214|           61|           49|     3|     25|      148|         27|    0|[1.0,1.0,78.88235...|\n",
      "|     0|    1|              52.0|        394|            9|            8|     1|      2|       35|          4|    0|[0.0,1.0,52.0,394...|\n",
      "|     0|    0|              52.0|        394|            9|            8|     1|      2|       35|          4|    0|[0.0,0.0,52.0,394...|\n",
      "|     0|    1| 70.77380952380952|       7230|          181|          110|     3|     85|      292|         72|    0|[0.0,1.0,70.77380...|\n",
      "|     0|    0| 70.77380952380952|       7230|          181|          110|     3|     85|      292|         72|    0|[0.0,0.0,70.77380...|\n",
      "|     1|    0| 71.81818181818181|       1026|           16|           24|     1|     37|       48|         27|    0|[1.0,0.0,71.81818...|\n",
      "|     1|    1| 71.81818181818181|       1026|           16|           24|     1|     37|       48|         27|    0|[1.0,1.0,71.81818...|\n",
      "|     1|    1|            104.75|       1529|           33|           31|     1|      1|       79|          9|    0|[1.0,1.0,104.75,1...|\n",
      "|     0|    1| 87.14634146341463|       4257|          104|           52|     7|     10|      166|         25|    0|[0.0,1.0,87.14634...|\n",
      "+------+-----+------------------+-----------+-------------+-------------+------+-------+---------+-----------+-----+--------------------+\n",
      "only showing top 20 rows\n",
      "\n"
     ]
    }
   ],
   "source": [
    "# before we start the modelling we need to combine the features into a features vector\n",
    "feature_columns = ['gender', 'level', 'songs_per_session', 'total_songs', 'playlist_adds', 'friends_added', 'errors', 'adverts', 'thumbs_up', 'thumbs_down']\n",
    "assmbler = VectorAssembler(inputCols = feature_columns, outputCol = \"vectorized_features\")\n",
    "feature_data = assmbler.transform(feature_data)\n",
    "feature_data.show()"
   ]
  },
  {
   "cell_type": "code",
   "execution_count": 61,
   "metadata": {},
   "outputs": [],
   "source": [
    "# in order to enable our machine learning models to work with our data without getting bias though different scales\n",
    "# we need to scale the data\n",
    "scaler = StandardScaler(inputCol = 'vectorized_features', outputCol = \"scaled_features\", withStd = True, withMean = False)\n",
    "scaler_model = scaler.fit(feature_data)\n",
    "feature_data = scaler_model.transform(feature_data)"
   ]
  },
  {
   "cell_type": "code",
   "execution_count": 62,
   "metadata": {},
   "outputs": [
    {
     "data": {
      "text/plain": [
       "[Row(gender=0, level=1, songs_per_session=157.83333333333334, total_songs=2220, playlist_adds=61, friends_added=36, errors=1, adverts=1, thumbs_up=76, thumbs_down=10, churn=0, vectorized_features=DenseVector([0.0, 1.0, 157.8333, 2220.0, 61.0, 36.0, 1.0, 1.0, 76.0, 10.0]), scaled_features=DenseVector([0.0, 1.9949, 4.0969, 1.4356, 1.5989, 1.4748, 0.703, 0.039, 0.9731, 0.6632]))]"
      ]
     },
     "execution_count": 62,
     "metadata": {},
     "output_type": "execute_result"
    }
   ],
   "source": [
    "feature_data.head(1)"
   ]
  },
  {
   "cell_type": "code",
   "execution_count": 63,
   "metadata": {},
   "outputs": [],
   "source": [
    "# here we prepare the data into label and features vector as well was renaming these to use the standard \n",
    "# column names used by the used classifiers.\n",
    "feature_data_final = feature_data.select(['churn', 'scaled_features'])\n",
    "feature_data_final = feature_data_final.selectExpr(\"churn as label\", \"scaled_features as features\")"
   ]
  },
  {
   "cell_type": "code",
   "execution_count": 64,
   "metadata": {},
   "outputs": [
    {
     "name": "stdout",
     "output_type": "stream",
     "text": [
      "+-----+--------------------+\n",
      "|label|            features|\n",
      "+-----+--------------------+\n",
      "|    0|[0.0,1.9948931000...|\n",
      "|    0|[0.0,0.0,2.206375...|\n",
      "|    0|[0.0,0.0,1.727606...|\n",
      "|    0|[0.0,1.9948931000...|\n",
      "|    0|[0.0,1.9948931000...|\n",
      "|    0|[0.0,0.0,2.016609...|\n",
      "|    0|[0.0,0.0,1.160870...|\n",
      "|    0|[0.0,1.9948931000...|\n",
      "|    0|[0.0,1.9948931000...|\n",
      "|    1|[1.99489310007777...|\n",
      "|    0|[1.99489310007777...|\n",
      "|    0|[1.99489310007777...|\n",
      "|    0|[0.0,1.9948931000...|\n",
      "|    0|[0.0,0.0,1.349782...|\n",
      "|    0|[0.0,1.9948931000...|\n",
      "|    0|[0.0,0.0,1.837101...|\n",
      "|    0|[1.99489310007777...|\n",
      "|    0|[1.99489310007777...|\n",
      "|    0|[1.99489310007777...|\n",
      "|    0|[0.0,1.9948931000...|\n",
      "+-----+--------------------+\n",
      "only showing top 20 rows\n",
      "\n"
     ]
    }
   ],
   "source": [
    "feature_data_final.show()"
   ]
  },
  {
   "cell_type": "code",
   "execution_count": 65,
   "metadata": {},
   "outputs": [],
   "source": [
    "# splitting the data in training and testing data sets.\n",
    "train_data , test_data = feature_data_final.randomSplit([0.7,0.3], seed = 42)"
   ]
  },
  {
   "cell_type": "code",
   "execution_count": 66,
   "metadata": {},
   "outputs": [
    {
     "data": {
      "text/plain": [
       "[0.7978859774114682]"
      ]
     },
     "execution_count": 66,
     "metadata": {},
     "output_type": "execute_result"
    }
   ],
   "source": [
    "# Fitting a Random Forest Classifier\n",
    "rfc = RandomForestClassifier()\n",
    "\n",
    "mce_f1 = MulticlassClassificationEvaluator(metricName = 'f1')\n",
    "parameter_grid = ParamGridBuilder().build()\n",
    "\n",
    "cv_rf = CrossValidator(estimator = rfc, estimatorParamMaps = parameter_grid, evaluator = mce_f1, numFolds = 2)\n",
    "\n",
    "cv_rf_model = cv_rf.fit(train_data)\n",
    "cv_rf_model.avgMetrics"
   ]
  },
  {
   "cell_type": "code",
   "execution_count": 67,
   "metadata": {},
   "outputs": [
    {
     "name": "stdout",
     "output_type": "stream",
     "text": [
      "f1 score: 0.9473684210526315\n",
      "accuracy: 0.9409578668648674\n",
      "area under ROC: 0.7857142857142857\n"
     ]
    }
   ],
   "source": [
    "# Evaluating the results with regard to f1 score and accuracy\n",
    "test_result_rf = cv_rf_model.transform(test_data)\n",
    "\n",
    "evaluator = MulticlassClassificationEvaluator(predictionCol = \"prediction\")\n",
    "evaluator_ROC = BinaryClassificationEvaluator(rawPredictionCol='prediction', metricName='areaUnderROC')\n",
    "print(\"f1 score: \" + str(evaluator.evaluate(test_result_rf, {evaluator.metricName : \"accuracy\"})))\n",
    "print(\"accuracy: \" + str(evaluator.evaluate(test_result_rf, {evaluator.metricName : \"f1\"})))\n",
    "print(\"area under ROC: \" + str(evaluator_ROC.evaluate(test_result_rf, {evaluator.metricName : \"areaUnderROC\"})))"
   ]
  },
  {
   "cell_type": "code",
   "execution_count": 68,
   "metadata": {},
   "outputs": [
    {
     "data": {
      "text/plain": [
       "[0.8264942589242702]"
      ]
     },
     "execution_count": 68,
     "metadata": {},
     "output_type": "execute_result"
    }
   ],
   "source": [
    "# Fitting a Gradient Boost Tree Classifier\n",
    "gbtc = GBTClassifier(maxIter = 5, maxDepth = 5, seed = 42)\n",
    "\n",
    "mce_f1 = MulticlassClassificationEvaluator(metricName = 'f1')\n",
    "parameter_grid = ParamGridBuilder().build()\n",
    "\n",
    "cv_gbtc = CrossValidator(estimator = gbtc, estimatorParamMaps = parameter_grid, evaluator = mce_f1, numFolds = 2)\n",
    "\n",
    "cv_gbtc_model = cv_gbtc.fit(train_data)\n",
    "cv_gbtc_model.avgMetrics"
   ]
  },
  {
   "cell_type": "code",
   "execution_count": 69,
   "metadata": {},
   "outputs": [
    {
     "name": "stdout",
     "output_type": "stream",
     "text": [
      "f1 score: 0.9298245614035088\n",
      "accuracy: 0.9298245614035088\n",
      "area under ROC: 0.8371428571428571\n"
     ]
    }
   ],
   "source": [
    "# Evaluating the results with regard to f1 score and accuracy\n",
    "test_result_gbtc = cv_gbtc_model.transform(test_data)\n",
    "\n",
    "evaluator = MulticlassClassificationEvaluator(predictionCol = \"prediction\")\n",
    "evaluator_ROC = BinaryClassificationEvaluator(rawPredictionCol='prediction', metricName='areaUnderROC')\n",
    "print(\"f1 score: \" + str(evaluator.evaluate(test_result_gbtc, {evaluator.metricName : \"accuracy\"})))\n",
    "print(\"accuracy: \" + str(evaluator.evaluate(test_result_gbtc, {evaluator.metricName : \"f1\"})))\n",
    "print(\"area under ROC: \" + str(evaluator_ROC.evaluate(test_result_gbtc, {evaluator.metricName : \"areaUnderROC\"})))"
   ]
  },
  {
   "cell_type": "code",
   "execution_count": 70,
   "metadata": {},
   "outputs": [
    {
     "data": {
      "text/plain": [
       "[0.6747413061916879]"
      ]
     },
     "execution_count": 70,
     "metadata": {},
     "output_type": "execute_result"
    }
   ],
   "source": [
    "# Fitting a Linear SVC\n",
    "lsvc = LinearSVC(maxIter = 10)\n",
    "\n",
    "mce_f1 = MulticlassClassificationEvaluator(metricName = 'f1')\n",
    "parameter_grid = ParamGridBuilder().build()\n",
    "\n",
    "cv_lsvc = CrossValidator(estimator = lsvc, estimatorParamMaps = parameter_grid, evaluator = mce_f1, numFolds = 2)\n",
    "\n",
    "cv_lsvc_model = cv_lsvc.fit(train_data)\n",
    "cv_lsvc_model.avgMetrics"
   ]
  },
  {
   "cell_type": "code",
   "execution_count": 71,
   "metadata": {},
   "outputs": [
    {
     "name": "stdout",
     "output_type": "stream",
     "text": [
      "f1 score: 0.8771929824561403\n",
      "accuracy: 0.8198065256599442\n",
      "area under ROC: 0.5\n"
     ]
    }
   ],
   "source": [
    "# Evaluating the results with regard to f1 score and accuracy\n",
    "test_result_lsvc = cv_lsvc_model.transform(test_data)\n",
    "\n",
    "evaluator = MulticlassClassificationEvaluator(predictionCol = \"prediction\")\n",
    "evaluator_ROC = BinaryClassificationEvaluator(rawPredictionCol='prediction', metricName='areaUnderROC')\n",
    "\n",
    "print(\"f1 score: \" + str(evaluator.evaluate(test_result_lsvc, {evaluator.metricName : \"accuracy\"})))\n",
    "print(\"accuracy: \" + str(evaluator.evaluate(test_result_lsvc, {evaluator.metricName : \"f1\"})))\n",
    "print(\"area under ROC: \" + str(evaluator_ROC.evaluate(test_result_lsvc, {evaluator.metricName : \"areaUnderROC\"})))"
   ]
  },
  {
   "cell_type": "markdown",
   "metadata": {},
   "source": [
    "After trying three different classifiers:\n",
    "- Random Forest Classifier\n",
    "- Gradent Boost Tree Classifier \n",
    "- Decision Tree Classifier\n",
    "\n",
    "We see that the Gradient Boost Tree classifiere has the best scores: f1 score: 0.923 and \n",
    "accuracy: 0.927.\n",
    "\n",
    "As a final step I will try to improve these results by performing a grid search to find the optimal hyperparameters for this problem. "
   ]
  },
  {
   "cell_type": "code",
   "execution_count": 72,
   "metadata": {},
   "outputs": [
    {
     "data": {
      "text/plain": [
       "[0.833628480951707,\n",
       " 0.847330685491605,\n",
       " 0.8423179642227261,\n",
       " 0.847330685491605,\n",
       " 0.8505591938925272,\n",
       " 0.847330685491605,\n",
       " 0.8505591938925272,\n",
       " 0.847330685491605]"
      ]
     },
     "execution_count": 72,
     "metadata": {},
     "output_type": "execute_result"
    }
   ],
   "source": [
    "# Fitting a Gradient Boost Tree Classifier and using Grid Search to find the optimal hyperparameters\n",
    "gbtc_final = GBTClassifier(maxIter = 5, maxDepth = 5, seed = 42)\n",
    "\n",
    "mce_f1 = MulticlassClassificationEvaluator(metricName = 'f1')\n",
    "parameter_grid_final = ParamGridBuilder().addGrid(gbtc_final.maxIter, [5, 10, 15, 20]).addGrid(gbtc_final.maxDepth, [5, 10]).build()\n",
    "\n",
    "cv_gbtc_final = CrossValidator(estimator = gbtc_final, estimatorParamMaps = parameter_grid_final, evaluator = mce_f1, numFolds = 3)\n",
    "cv_gbtc_model_final = cv_gbtc_final.fit(train_data)\n",
    "cv_gbtc_model_final.avgMetrics"
   ]
  },
  {
   "cell_type": "code",
   "execution_count": 73,
   "metadata": {},
   "outputs": [
    {
     "name": "stdout",
     "output_type": "stream",
     "text": [
      "f1 score: 0.9298245614035088\n",
      "accuracy: 0.9298245614035088\n",
      "area under ROC: 0.8371428571428571\n"
     ]
    }
   ],
   "source": [
    "# Evaluating the results with regard to f1 score and accuracy\n",
    "test_result_gbtc_final = cv_gbtc_model_final.transform(test_data)\n",
    "\n",
    "evaluator = MulticlassClassificationEvaluator(predictionCol = \"prediction\")\n",
    "evaluator_ROC = BinaryClassificationEvaluator(rawPredictionCol='prediction', metricName='areaUnderROC')\n",
    "\n",
    "print(\"f1 score: \" + str(evaluator.evaluate(test_result_gbtc_final, {evaluator.metricName : \"accuracy\"})))\n",
    "print(\"accuracy: \" + str(evaluator.evaluate(test_result_gbtc_final, {evaluator.metricName : \"f1\"})))\n",
    "print(\"area under ROC: \" + str(evaluator_ROC.evaluate(test_result_gbtc_final, {evaluator.metricName : \"areaUnderROC\"})))"
   ]
  },
  {
   "cell_type": "code",
   "execution_count": 74,
   "metadata": {},
   "outputs": [
    {
     "data": {
      "text/plain": [
       "[0.7379673298277949,\n",
       " 0.7379673298277949,\n",
       " 0.7379673298277949,\n",
       " 0.7403246776914154,\n",
       " 0.7403246776914154,\n",
       " 0.7403246776914154,\n",
       " 0.7587777356742873,\n",
       " 0.7587777356742873,\n",
       " 0.7587777356742873]"
      ]
     },
     "execution_count": 74,
     "metadata": {},
     "output_type": "execute_result"
    }
   ],
   "source": [
    "# Fitting a Random Forest Classifier and using Grid Search to find the optimal hyperparameters\n",
    "rfc_final = RandomForestClassifier(maxBins = 5, maxDepth = 5, seed = 42)\n",
    "\n",
    "mce_f1 = MulticlassClassificationEvaluator(metricName = 'f1')\n",
    "parameter_grid_final = ParamGridBuilder().addGrid(rfc_final.maxBins, [2, 3, 5]).addGrid(gbtc_final.maxDepth, [10, 50, 100]).build()\n",
    "\n",
    "cv_rfc_final = CrossValidator(estimator = rfc_final, estimatorParamMaps = parameter_grid_final, evaluator = mce_f1, numFolds = 3)\n",
    "cv_rfc_model_final = cv_rfc_final.fit(train_data)\n",
    "cv_rfc_model_final.avgMetrics"
   ]
  },
  {
   "cell_type": "code",
   "execution_count": 75,
   "metadata": {},
   "outputs": [
    {
     "name": "stdout",
     "output_type": "stream",
     "text": [
      "f1 score: 0.8245614035087719\n",
      "accuracy: 0.8337361260293591\n",
      "area under ROC: 0.6542857142857142\n"
     ]
    }
   ],
   "source": [
    "# Evaluating the results with regard to f1 score and accuracy\n",
    "test_result_rfc_final = cv_rfc_model_final.transform(test_data)\n",
    "\n",
    "evaluator = MulticlassClassificationEvaluator(predictionCol = \"prediction\")\n",
    "evaluator_ROC = BinaryClassificationEvaluator(rawPredictionCol='prediction', metricName='areaUnderROC')\n",
    "\n",
    "print(\"f1 score: \" + str(evaluator.evaluate(test_result_rfc_final, {evaluator.metricName : \"accuracy\"})))\n",
    "print(\"accuracy: \" + str(evaluator.evaluate(test_result_rfc_final, {evaluator.metricName : \"f1\"})))\n",
    "print(\"area under ROC: \" + str(evaluator_ROC.evaluate(test_result_rfc_final, {evaluator.metricName : \"areaUnderROC\"})))"
   ]
  },
  {
   "cell_type": "raw",
   "metadata": {},
   "source": [
    "For discussion of results and conclusion see my blog post: https://medium.com/@dan.gunnarsson/prediction-of-churn-using-pyspark-990221840ce0"
   ]
  },
  {
   "cell_type": "markdown",
   "metadata": {},
   "source": []
  }
 ],
 "metadata": {
  "kernelspec": {
   "display_name": "Python 3",
   "language": "python",
   "name": "python3"
  },
  "language_info": {
   "codemirror_mode": {
    "name": "ipython",
    "version": 3
   },
   "file_extension": ".py",
   "mimetype": "text/x-python",
   "name": "python",
   "nbconvert_exporter": "python",
   "pygments_lexer": "ipython3",
   "version": "3.7.4"
  }
 },
 "nbformat": 4,
 "nbformat_minor": 2
}

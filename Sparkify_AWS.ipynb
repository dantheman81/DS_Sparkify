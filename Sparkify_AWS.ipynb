{
 "cells": [
  {
   "cell_type": "code",
   "execution_count": 1,
   "metadata": {},
   "outputs": [
    {
     "data": {
      "application/vnd.jupyter.widget-view+json": {
       "model_id": "",
       "version_major": 2,
       "version_minor": 0
      },
      "text/plain": [
       "VBox()"
      ]
     },
     "metadata": {},
     "output_type": "display_data"
    },
    {
     "name": "stdout",
     "output_type": "stream",
     "text": [
      "Starting Spark application\n"
     ]
    },
    {
     "data": {
      "text/html": [
       "<table>\n",
       "<tr><th>ID</th><th>YARN Application ID</th><th>Kind</th><th>State</th><th>Spark UI</th><th>Driver log</th><th>Current session?</th></tr><tr><td>3</td><td>application_1584446657739_0004</td><td>pyspark</td><td>idle</td><td><a target=\"_blank\" href=\"http://ip-172-31-41-226.us-east-2.compute.internal:20888/proxy/application_1584446657739_0004/\">Link</a></td><td><a target=\"_blank\" href=\"http://ip-172-31-46-193.us-east-2.compute.internal:8042/node/containerlogs/container_1584446657739_0004_01_000001/livy\">Link</a></td><td>✔</td></tr></table>"
      ],
      "text/plain": [
       "<IPython.core.display.HTML object>"
      ]
     },
     "metadata": {},
     "output_type": "display_data"
    },
    {
     "data": {
      "application/vnd.jupyter.widget-view+json": {
       "model_id": "",
       "version_major": 2,
       "version_minor": 0
      },
      "text/plain": [
       "FloatProgress(value=0.0, bar_style='info', description='Progress:', layout=Layout(height='25px', width='50%'),…"
      ]
     },
     "metadata": {},
     "output_type": "display_data"
    },
    {
     "name": "stdout",
     "output_type": "stream",
     "text": [
      "SparkSession available as 'spark'.\n"
     ]
    },
    {
     "data": {
      "application/vnd.jupyter.widget-view+json": {
       "model_id": "",
       "version_major": 2,
       "version_minor": 0
      },
      "text/plain": [
       "FloatProgress(value=0.0, bar_style='info', description='Progress:', layout=Layout(height='25px', width='50%'),…"
      ]
     },
     "metadata": {},
     "output_type": "display_data"
    }
   ],
   "source": [
    "# import libraries\n",
    "from pyspark.sql import SparkSession\n",
    "from pyspark.sql.functions import avg, col, count, isnull, udf, when\n",
    "\n",
    "from pyspark.ml.classification import DecisionTreeClassifier, RandomForestClassifier, GBTClassifier\n",
    "from pyspark.ml.evaluation import MulticlassClassificationEvaluator, BinaryClassificationEvaluator\n",
    "from pyspark.ml.feature import StandardScaler, VectorAssembler\n",
    "from pyspark.ml.tuning import CrossValidator, ParamGridBuilder\n",
    "\n",
    "import datetime\n",
    "\n",
    "import numpy as np\n",
    "#import pandas as pd\n",
    "#import seaborn as sns\n",
    "\n",
    "#%matplotlib inline\n",
    "#import matplotlib.pyplot as plt"
   ]
  },
  {
   "cell_type": "code",
   "execution_count": 2,
   "metadata": {},
   "outputs": [
    {
     "data": {
      "application/vnd.jupyter.widget-view+json": {
       "model_id": "2bd10206f02d403c990328b50c934644",
       "version_major": 2,
       "version_minor": 0
      },
      "text/plain": [
       "VBox()"
      ]
     },
     "metadata": {},
     "output_type": "display_data"
    },
    {
     "data": {
      "application/vnd.jupyter.widget-view+json": {
       "model_id": "",
       "version_major": 2,
       "version_minor": 0
      },
      "text/plain": [
       "FloatProgress(value=0.0, bar_style='info', description='Progress:', layout=Layout(height='25px', width='50%'),…"
      ]
     },
     "metadata": {},
     "output_type": "display_data"
    },
    {
     "name": "stdout",
     "output_type": "stream",
     "text": [
      "Row(artist='Popol Vuh', auth='Logged In', firstName='Shlok', gender='M', itemInSession=278, lastName='Johnson', length=524.32934, level='paid', location='Dallas-Fort Worth-Arlington, TX', method='PUT', page='NextSong', registration=1533734541000, sessionId=22683, song='Ich mache einen Spiegel - Dream Part 4', status=200, ts=1538352001000, userAgent='\"Mozilla/5.0 (Windows NT 6.1; WOW64) AppleWebKit/537.36 (KHTML, like Gecko) Chrome/36.0.1985.143 Safari/537.36\"', userId='1749042')"
     ]
    }
   ],
   "source": [
    "# Create spark session\n",
    "spark = SparkSession \\\n",
    "    .builder \\\n",
    "    .appName(\"Sparkify\") \\\n",
    "    .getOrCreate()\n",
    "\n",
    "# Read in full sparkify dataset\n",
    "event_data = \"s3n://udacity-dsnd/sparkify/sparkify_event_data.json\"\n",
    "df = spark.read.json(event_data)\n",
    "df.head()"
   ]
  },
  {
   "cell_type": "code",
   "execution_count": 3,
   "metadata": {},
   "outputs": [
    {
     "data": {
      "application/vnd.jupyter.widget-view+json": {
       "model_id": "8fb3d8539efa41739309ae05caeb7bd7",
       "version_major": 2,
       "version_minor": 0
      },
      "text/plain": [
       "VBox()"
      ]
     },
     "metadata": {},
     "output_type": "display_data"
    },
    {
     "data": {
      "application/vnd.jupyter.widget-view+json": {
       "model_id": "",
       "version_major": 2,
       "version_minor": 0
      },
      "text/plain": [
       "FloatProgress(value=0.0, bar_style='info', description='Progress:', layout=Layout(height='25px', width='50%'),…"
      ]
     },
     "metadata": {},
     "output_type": "display_data"
    }
   ],
   "source": [
    "# clean up: remove all rows where the userId is empty as these are from events where a user was \n",
    "# not logged in which is non-relevant for our churn analysis\n",
    "df_clean = df.filter(df.userId != \"\")"
   ]
  },
  {
   "cell_type": "code",
   "execution_count": 4,
   "metadata": {},
   "outputs": [
    {
     "data": {
      "application/vnd.jupyter.widget-view+json": {
       "model_id": "8182273fb8864ef992a1d60a757a6e19",
       "version_major": 2,
       "version_minor": 0
      },
      "text/plain": [
       "VBox()"
      ]
     },
     "metadata": {},
     "output_type": "display_data"
    },
    {
     "data": {
      "application/vnd.jupyter.widget-view+json": {
       "model_id": "",
       "version_major": 2,
       "version_minor": 0
      },
      "text/plain": [
       "FloatProgress(value=0.0, bar_style='info', description='Progress:', layout=Layout(height='25px', width='50%'),…"
      ]
     },
     "metadata": {},
     "output_type": "display_data"
    },
    {
     "name": "stdout",
     "output_type": "stream",
     "text": [
      "+-------+------------------+------------------+\n",
      "|summary|            userId|         sessionId|\n",
      "+-------+------------------+------------------+\n",
      "|  count|          26259199|          26259199|\n",
      "|   mean|1488379.8347142653|100577.99253503505|\n",
      "| stddev|286970.08894623973| 71909.21077875949|\n",
      "|    min|           1000025|                 1|\n",
      "|    max|           1999996|            240381|\n",
      "+-------+------------------+------------------+"
     ]
    }
   ],
   "source": [
    "df_clean.describe(\"userId\", \"sessionId\").show()"
   ]
  },
  {
   "cell_type": "code",
   "execution_count": 5,
   "metadata": {},
   "outputs": [
    {
     "data": {
      "application/vnd.jupyter.widget-view+json": {
       "model_id": "9c29c73cdabf434b892321ab3c58538b",
       "version_major": 2,
       "version_minor": 0
      },
      "text/plain": [
       "VBox()"
      ]
     },
     "metadata": {},
     "output_type": "display_data"
    },
    {
     "data": {
      "application/vnd.jupyter.widget-view+json": {
       "model_id": "",
       "version_major": 2,
       "version_minor": 0
      },
      "text/plain": [
       "FloatProgress(value=0.0, bar_style='info', description='Progress:', layout=Layout(height='25px', width='50%'),…"
      ]
     },
     "metadata": {},
     "output_type": "display_data"
    }
   ],
   "source": [
    "# Add the hour of day when the song was played to the data frame as a feature\n",
    "get_hour = udf(lambda x: datetime.datetime.fromtimestamp(x / 1000.0). hour)\n",
    "df_clean = df_clean.withColumn(\"hour\", get_hour(df_clean.ts))"
   ]
  },
  {
   "cell_type": "code",
   "execution_count": 6,
   "metadata": {},
   "outputs": [
    {
     "data": {
      "application/vnd.jupyter.widget-view+json": {
       "model_id": "b57dd6507fc8404e876100dda46fa444",
       "version_major": 2,
       "version_minor": 0
      },
      "text/plain": [
       "VBox()"
      ]
     },
     "metadata": {},
     "output_type": "display_data"
    },
    {
     "data": {
      "application/vnd.jupyter.widget-view+json": {
       "model_id": "",
       "version_major": 2,
       "version_minor": 0
      },
      "text/plain": [
       "FloatProgress(value=0.0, bar_style='info', description='Progress:', layout=Layout(height='25px', width='50%'),…"
      ]
     },
     "metadata": {},
     "output_type": "display_data"
    }
   ],
   "source": [
    "# Filter the data frame to only contain churn events\n",
    "df_churn = df_clean.where(df_clean.auth==\"Cancelled\")"
   ]
  },
  {
   "cell_type": "code",
   "execution_count": 7,
   "metadata": {},
   "outputs": [
    {
     "data": {
      "application/vnd.jupyter.widget-view+json": {
       "model_id": "cf4cd95681244840aca3cfef1032ab99",
       "version_major": 2,
       "version_minor": 0
      },
      "text/plain": [
       "VBox()"
      ]
     },
     "metadata": {},
     "output_type": "display_data"
    },
    {
     "data": {
      "application/vnd.jupyter.widget-view+json": {
       "model_id": "",
       "version_major": 2,
       "version_minor": 0
      },
      "text/plain": [
       "FloatProgress(value=0.0, bar_style='info', description='Progress:', layout=Layout(height='25px', width='50%'),…"
      ]
     },
     "metadata": {},
     "output_type": "display_data"
    }
   ],
   "source": [
    "# create a churn column in the dataframe that is 1 for all the events that are from users that have churned\n",
    "list_churnusers = [(row['userId']) for row in df_churn.collect()]\n",
    "\n",
    "df_clean_churn = df_clean.withColumn(\"churn\", when(col(\"userId\").isin(list_churnusers),1).otherwise(0))"
   ]
  },
  {
   "cell_type": "code",
   "execution_count": 8,
   "metadata": {},
   "outputs": [
    {
     "data": {
      "application/vnd.jupyter.widget-view+json": {
       "model_id": "a39bf217a98240cba9a52632b0d877bf",
       "version_major": 2,
       "version_minor": 0
      },
      "text/plain": [
       "VBox()"
      ]
     },
     "metadata": {},
     "output_type": "display_data"
    },
    {
     "data": {
      "application/vnd.jupyter.widget-view+json": {
       "model_id": "",
       "version_major": 2,
       "version_minor": 0
      },
      "text/plain": [
       "FloatProgress(value=0.0, bar_style='info', description='Progress:', layout=Layout(height='25px', width='50%'),…"
      ]
     },
     "metadata": {},
     "output_type": "display_data"
    },
    {
     "name": "stdout",
     "output_type": "stream",
     "text": [
      "+-------+------+\n",
      "| userId|gender|\n",
      "+-------+------+\n",
      "|1679072|     1|\n",
      "|1141231|     1|\n",
      "|1163054|     1|\n",
      "|1585825|     1|\n",
      "|1367398|     1|\n",
      "|1458511|     0|\n",
      "|1048010|     0|\n",
      "|1769374|     1|\n",
      "|1996694|     0|\n",
      "|1502623|     1|\n",
      "|1766596|     0|\n",
      "|1136642|     0|\n",
      "|1076017|     0|\n",
      "|1439734|     0|\n",
      "|1859039|     1|\n",
      "|1998774|     0|\n",
      "|1377692|     1|\n",
      "|1403205|     0|\n",
      "|1226440|     0|\n",
      "|1739620|     1|\n",
      "+-------+------+\n",
      "only showing top 20 rows"
     ]
    }
   ],
   "source": [
    "# Now its time create the features for each userId\n",
    "# Feature 1: Gender\n",
    "f1 = df_clean_churn.select('userId', 'gender').dropDuplicates().replace(['F', 'M'], ['0', '1'], 'gender').select('userId', col('gender').cast('int'))\n",
    "\n",
    "f1.show()"
   ]
  },
  {
   "cell_type": "code",
   "execution_count": 10,
   "metadata": {},
   "outputs": [
    {
     "data": {
      "application/vnd.jupyter.widget-view+json": {
       "model_id": "09c6fadad85440c8be16004a5f9071d4",
       "version_major": 2,
       "version_minor": 0
      },
      "text/plain": [
       "VBox()"
      ]
     },
     "metadata": {},
     "output_type": "display_data"
    },
    {
     "data": {
      "application/vnd.jupyter.widget-view+json": {
       "model_id": "",
       "version_major": 2,
       "version_minor": 0
      },
      "text/plain": [
       "FloatProgress(value=0.0, bar_style='info', description='Progress:', layout=Layout(height='25px', width='50%'),…"
      ]
     },
     "metadata": {},
     "output_type": "display_data"
    },
    {
     "name": "stdout",
     "output_type": "stream",
     "text": [
      "+-------+-----+\n",
      "| userId|level|\n",
      "+-------+-----+\n",
      "|1057440|    1|\n",
      "|1319705|    1|\n",
      "|1513921|    0|\n",
      "|1434232|    1|\n",
      "|1147993|    1|\n",
      "|1347514|    0|\n",
      "|1094918|    0|\n",
      "|1381135|    0|\n",
      "|1539625|    1|\n",
      "|1269740|    0|\n",
      "|1029700|    1|\n",
      "|1692537|    0|\n",
      "|1717782|    0|\n",
      "|1140592|    0|\n",
      "|1805728|    1|\n",
      "|1014253|    1|\n",
      "|1495417|    1|\n",
      "|1216358|    0|\n",
      "|1990153|    0|\n",
      "|1914558|    0|\n",
      "+-------+-----+\n",
      "only showing top 20 rows"
     ]
    }
   ],
   "source": [
    "# Feature 2: Level\n",
    "f2 = df_clean_churn.select('userId', 'level').dropDuplicates().replace(['free', 'paid'], ['0', '1'], 'level').select('userId', col('level').cast('int'))\n",
    "\n",
    "f2.show()"
   ]
  },
  {
   "cell_type": "code",
   "execution_count": 11,
   "metadata": {},
   "outputs": [
    {
     "data": {
      "application/vnd.jupyter.widget-view+json": {
       "model_id": "4c5a67fb793b4477bdd1e6c3fd26bc73",
       "version_major": 2,
       "version_minor": 0
      },
      "text/plain": [
       "VBox()"
      ]
     },
     "metadata": {},
     "output_type": "display_data"
    },
    {
     "data": {
      "application/vnd.jupyter.widget-view+json": {
       "model_id": "",
       "version_major": 2,
       "version_minor": 0
      },
      "text/plain": [
       "FloatProgress(value=0.0, bar_style='info', description='Progress:', layout=Layout(height='25px', width='50%'),…"
      ]
     },
     "metadata": {},
     "output_type": "display_data"
    },
    {
     "name": "stdout",
     "output_type": "stream",
     "text": [
      "+-------+------------------+\n",
      "| userId| songs_per_session|\n",
      "+-------+------------------+\n",
      "|1690101| 66.16666666666667|\n",
      "|1396135|            121.75|\n",
      "|1057724| 98.64102564102564|\n",
      "|1828442| 21.09090909090909|\n",
      "|1994878| 77.18518518518519|\n",
      "|1875484|             59.96|\n",
      "|1624220|           27.6875|\n",
      "|1983423| 97.85714285714286|\n",
      "|1517899| 51.57142857142857|\n",
      "|1114507| 65.23076923076923|\n",
      "|1347224|              88.5|\n",
      "|1017805| 83.33333333333333|\n",
      "|1553683|              13.0|\n",
      "|1178731|115.78260869565217|\n",
      "|1578670|           113.375|\n",
      "|1917123|54.666666666666664|\n",
      "|1492713|              31.4|\n",
      "|1829495|              66.4|\n",
      "|1351489| 80.23076923076923|\n",
      "|1658815| 71.06666666666666|\n",
      "+-------+------------------+\n",
      "only showing top 20 rows"
     ]
    }
   ],
   "source": [
    "# Feature 3: Number of songs listened per session\n",
    "f3  = df_clean_churn.where(df_clean_churn.page == \"NextSong\").groupby(['userId', 'sessionId']).count().groupby('userId').agg({'count' : 'avg'}).withColumnRenamed('avg(count)', 'songs_per_session')\n",
    "\n",
    "f3.show()"
   ]
  },
  {
   "cell_type": "code",
   "execution_count": 12,
   "metadata": {},
   "outputs": [
    {
     "data": {
      "application/vnd.jupyter.widget-view+json": {
       "model_id": "daabb6f1c82a4047ab814833dd4d2626",
       "version_major": 2,
       "version_minor": 0
      },
      "text/plain": [
       "VBox()"
      ]
     },
     "metadata": {},
     "output_type": "display_data"
    },
    {
     "data": {
      "application/vnd.jupyter.widget-view+json": {
       "model_id": "",
       "version_major": 2,
       "version_minor": 0
      },
      "text/plain": [
       "FloatProgress(value=0.0, bar_style='info', description='Progress:', layout=Layout(height='25px', width='50%'),…"
      ]
     },
     "metadata": {},
     "output_type": "display_data"
    },
    {
     "name": "stdout",
     "output_type": "stream",
     "text": [
      "+-------+-----------+\n",
      "| userId|total_songs|\n",
      "+-------+-----------+\n",
      "|1331962|        727|\n",
      "|1178731|       3165|\n",
      "|1528396|        154|\n",
      "|1002185|       2080|\n",
      "|1333041|        966|\n",
      "|1567623|       1375|\n",
      "|1190352|       2622|\n",
      "|1983423|       1629|\n",
      "|1271218|       5755|\n",
      "|1396828|       1519|\n",
      "|1142513|        618|\n",
      "|1875484|       1834|\n",
      "|1083324|       1784|\n",
      "|1612069|        339|\n",
      "|1734557|        588|\n",
      "|1071308|       1693|\n",
      "|1492713|        629|\n",
      "|1658815|       1310|\n",
      "|1057724|       4669|\n",
      "|1718034|        875|\n",
      "+-------+-----------+\n",
      "only showing top 20 rows"
     ]
    }
   ],
   "source": [
    "# Feature 4 : Number of songs played / total number of events per user\n",
    "f4 = df_clean_churn.select('userId', 'song').groupBy('userId').count().withColumnRenamed('count', 'total_songs')\n",
    "f4.show()"
   ]
  },
  {
   "cell_type": "code",
   "execution_count": 13,
   "metadata": {},
   "outputs": [
    {
     "data": {
      "application/vnd.jupyter.widget-view+json": {
       "model_id": "6f46f2ddc2e94a56b95901f33238a394",
       "version_major": 2,
       "version_minor": 0
      },
      "text/plain": [
       "VBox()"
      ]
     },
     "metadata": {},
     "output_type": "display_data"
    },
    {
     "data": {
      "application/vnd.jupyter.widget-view+json": {
       "model_id": "",
       "version_major": 2,
       "version_minor": 0
      },
      "text/plain": [
       "FloatProgress(value=0.0, bar_style='info', description='Progress:', layout=Layout(height='25px', width='50%'),…"
      ]
     },
     "metadata": {},
     "output_type": "display_data"
    },
    {
     "name": "stdout",
     "output_type": "stream",
     "text": [
      "+-------+-------------+\n",
      "| userId|playlist_adds|\n",
      "+-------+-------------+\n",
      "|1002185|           49|\n",
      "|1178731|           84|\n",
      "|1567623|           39|\n",
      "|1331962|           17|\n",
      "|1190352|           63|\n",
      "|1271218|          137|\n",
      "|1983423|           26|\n",
      "|1396828|           50|\n",
      "|1142513|           19|\n",
      "|1083324|           43|\n",
      "|1734557|           14|\n",
      "|1071308|           26|\n",
      "|1612069|            5|\n",
      "|1492713|           20|\n",
      "|1588738|           57|\n",
      "|1069552|           11|\n",
      "|1339632|          117|\n",
      "|1965481|           83|\n",
      "|1200956|          107|\n",
      "|1803077|           18|\n",
      "+-------+-------------+\n",
      "only showing top 20 rows"
     ]
    }
   ],
   "source": [
    "# Feature 5: Number of songs added to playlists\n",
    "f5 = df_clean_churn.select('userId', 'page').where(df_clean_churn.page == 'Add to Playlist').groupBy('userId').count().withColumnRenamed('count', 'playlist_adds')\n",
    "f5.show()"
   ]
  },
  {
   "cell_type": "code",
   "execution_count": 14,
   "metadata": {},
   "outputs": [
    {
     "data": {
      "application/vnd.jupyter.widget-view+json": {
       "model_id": "6b46d23bbd13430d89f81b1ee19bafe9",
       "version_major": 2,
       "version_minor": 0
      },
      "text/plain": [
       "VBox()"
      ]
     },
     "metadata": {},
     "output_type": "display_data"
    },
    {
     "data": {
      "application/vnd.jupyter.widget-view+json": {
       "model_id": "",
       "version_major": 2,
       "version_minor": 0
      },
      "text/plain": [
       "FloatProgress(value=0.0, bar_style='info', description='Progress:', layout=Layout(height='25px', width='50%'),…"
      ]
     },
     "metadata": {},
     "output_type": "display_data"
    },
    {
     "name": "stdout",
     "output_type": "stream",
     "text": [
      "+-------+-------------+\n",
      "| userId|friends_added|\n",
      "+-------+-------------+\n",
      "|1983423|           23|\n",
      "|1002185|           25|\n",
      "|1190352|           40|\n",
      "|1142513|           16|\n",
      "|1083324|           26|\n",
      "|1071308|           31|\n",
      "|1339632|           74|\n",
      "|1965481|           48|\n",
      "|1200956|           43|\n",
      "|1718034|            9|\n",
      "|1396828|           13|\n",
      "|1396135|           13|\n",
      "|1102913|           18|\n",
      "|1633577|           55|\n",
      "|1663036|           26|\n",
      "|1994878|           51|\n",
      "|1057724|           76|\n",
      "|1794110|           15|\n",
      "|1676292|           46|\n",
      "|1178731|           35|\n",
      "+-------+-------------+\n",
      "only showing top 20 rows"
     ]
    }
   ],
   "source": [
    "# Feature 6: Number of friends added\n",
    "f6 = df_clean_churn.select('userId', 'page').where(df_clean_churn.page == 'Add Friend').groupBy('userId').count().withColumnRenamed('count', 'friends_added')\n",
    "f6.show()"
   ]
  },
  {
   "cell_type": "code",
   "execution_count": 15,
   "metadata": {},
   "outputs": [
    {
     "data": {
      "application/vnd.jupyter.widget-view+json": {
       "model_id": "60a508910ad1475c854cb67d80a6c506",
       "version_major": 2,
       "version_minor": 0
      },
      "text/plain": [
       "VBox()"
      ]
     },
     "metadata": {},
     "output_type": "display_data"
    },
    {
     "data": {
      "application/vnd.jupyter.widget-view+json": {
       "model_id": "",
       "version_major": 2,
       "version_minor": 0
      },
      "text/plain": [
       "FloatProgress(value=0.0, bar_style='info', description='Progress:', layout=Layout(height='25px', width='50%'),…"
      ]
     },
     "metadata": {},
     "output_type": "display_data"
    },
    {
     "name": "stdout",
     "output_type": "stream",
     "text": [
      "+-------+------+\n",
      "| userId|errors|\n",
      "+-------+------+\n",
      "|1331962|     1|\n",
      "|1500901|     7|\n",
      "|1663036|     1|\n",
      "|1178731|     7|\n",
      "|1339632|     5|\n",
      "|1200956|     3|\n",
      "|1619792|     3|\n",
      "|1983423|     3|\n",
      "|1633577|     3|\n",
      "|1002185|     2|\n",
      "|1658815|     1|\n",
      "|1875484|     4|\n",
      "|1271218|     6|\n",
      "|1519090|     2|\n",
      "|1151194|     2|\n",
      "|1083324|     2|\n",
      "|1734557|     1|\n",
      "|1102913|     2|\n",
      "|1190352|     3|\n",
      "|1142513|     1|\n",
      "+-------+------+\n",
      "only showing top 20 rows"
     ]
    }
   ],
   "source": [
    "# Feature 7: Number of errors\n",
    "f7 = df_clean_churn.select('userId', 'page').where(df_clean_churn.page == 'Error').groupBy('userId').count().withColumnRenamed('count', 'errors')\n",
    "f7.show()"
   ]
  },
  {
   "cell_type": "code",
   "execution_count": 16,
   "metadata": {},
   "outputs": [
    {
     "data": {
      "application/vnd.jupyter.widget-view+json": {
       "model_id": "81f1c0b439cf497d9daafc5b17f986e6",
       "version_major": 2,
       "version_minor": 0
      },
      "text/plain": [
       "VBox()"
      ]
     },
     "metadata": {},
     "output_type": "display_data"
    },
    {
     "data": {
      "application/vnd.jupyter.widget-view+json": {
       "model_id": "",
       "version_major": 2,
       "version_minor": 0
      },
      "text/plain": [
       "FloatProgress(value=0.0, bar_style='info', description='Progress:', layout=Layout(height='25px', width='50%'),…"
      ]
     },
     "metadata": {},
     "output_type": "display_data"
    },
    {
     "name": "stdout",
     "output_type": "stream",
     "text": [
      "+-------+-------+\n",
      "| userId|adverts|\n",
      "+-------+-------+\n",
      "|1358765|      4|\n",
      "|1519090|     33|\n",
      "|1718034|     19|\n",
      "|1384823|     23|\n",
      "|1875484|     43|\n",
      "|1492713|     36|\n",
      "|1658815|     19|\n",
      "|1633577|     51|\n",
      "|1114507|     13|\n",
      "|1338783|      9|\n",
      "|1057724|     67|\n",
      "|1612069|     19|\n",
      "|1142513|     36|\n",
      "|1394508|     50|\n",
      "|1994878|     34|\n",
      "|1578670|     10|\n",
      "|1178731|      7|\n",
      "|1396828|     10|\n",
      "|1656082|      7|\n",
      "|1567623|     20|\n",
      "+-------+-------+\n",
      "only showing top 20 rows"
     ]
    }
   ],
   "source": [
    "# Feature 8: Number of adverts\n",
    "f8 = df_clean_churn.select('userId', 'page').where(df_clean_churn.page == 'Roll Advert').groupBy('userId').count().withColumnRenamed('count', 'adverts')\n",
    "f8.show()"
   ]
  },
  {
   "cell_type": "code",
   "execution_count": 17,
   "metadata": {},
   "outputs": [
    {
     "data": {
      "application/vnd.jupyter.widget-view+json": {
       "model_id": "07766f7e0897471a909173ca09212e99",
       "version_major": 2,
       "version_minor": 0
      },
      "text/plain": [
       "VBox()"
      ]
     },
     "metadata": {},
     "output_type": "display_data"
    },
    {
     "data": {
      "application/vnd.jupyter.widget-view+json": {
       "model_id": "",
       "version_major": 2,
       "version_minor": 0
      },
      "text/plain": [
       "FloatProgress(value=0.0, bar_style='info', description='Progress:', layout=Layout(height='25px', width='50%'),…"
      ]
     },
     "metadata": {},
     "output_type": "display_data"
    },
    {
     "name": "stdout",
     "output_type": "stream",
     "text": [
      "+-------+---------+\n",
      "| userId|thumbs_up|\n",
      "+-------+---------+\n",
      "|1331962|       30|\n",
      "|1002185|       92|\n",
      "|1178731|      147|\n",
      "|1567623|       65|\n",
      "|1528396|        3|\n",
      "|1983423|       75|\n",
      "|1190352|      113|\n",
      "|1333041|       34|\n",
      "|1271218|      250|\n",
      "|1083324|       75|\n",
      "|1875484|       81|\n",
      "|1142513|       22|\n",
      "|1612069|       10|\n",
      "|1071308|       74|\n",
      "|1734557|       18|\n",
      "|1069552|       26|\n",
      "|1658815|       53|\n",
      "|1718034|       30|\n",
      "|1588738|       98|\n",
      "|1396828|       67|\n",
      "+-------+---------+\n",
      "only showing top 20 rows"
     ]
    }
   ],
   "source": [
    "# Feature 9: Number of thumbs up\n",
    "f9 = df_clean_churn.select('userId', 'page').where(df_clean_churn.page == 'Thumbs Up').groupBy('userId').count().withColumnRenamed('count', 'thumbs_up')\n",
    "f9.show()"
   ]
  },
  {
   "cell_type": "code",
   "execution_count": 18,
   "metadata": {},
   "outputs": [
    {
     "data": {
      "application/vnd.jupyter.widget-view+json": {
       "model_id": "41f2e2d7fe094917b582074ba3070801",
       "version_major": 2,
       "version_minor": 0
      },
      "text/plain": [
       "VBox()"
      ]
     },
     "metadata": {},
     "output_type": "display_data"
    },
    {
     "data": {
      "application/vnd.jupyter.widget-view+json": {
       "model_id": "",
       "version_major": 2,
       "version_minor": 0
      },
      "text/plain": [
       "FloatProgress(value=0.0, bar_style='info', description='Progress:', layout=Layout(height='25px', width='50%'),…"
      ]
     },
     "metadata": {},
     "output_type": "display_data"
    },
    {
     "name": "stdout",
     "output_type": "stream",
     "text": [
      "+-------+-----------+\n",
      "| userId|thumbs_down|\n",
      "+-------+-----------+\n",
      "|1351489|          8|\n",
      "|1390009|          2|\n",
      "|1358765|          1|\n",
      "|1178731|         27|\n",
      "|1500901|         45|\n",
      "|1384823|          9|\n",
      "|1492713|          3|\n",
      "|1588738|         22|\n",
      "|1331962|          8|\n",
      "|1875484|         14|\n",
      "|1396135|          9|\n",
      "|1394508|         16|\n",
      "|1578670|         13|\n",
      "|1718034|          9|\n",
      "|1190352|         28|\n",
      "|1339632|         39|\n",
      "|1994878|         25|\n",
      "|1002185|         14|\n",
      "|1794110|          6|\n",
      "|1612069|          4|\n",
      "+-------+-----------+\n",
      "only showing top 20 rows"
     ]
    }
   ],
   "source": [
    "# Feature 10: Number of thumbs down\n",
    "f10 = df_clean_churn.select('userId', 'page').where(df_clean_churn.page == 'Thumbs Down').groupBy('userId').count().withColumnRenamed('count', 'thumbs_down')\n",
    "f10.show()"
   ]
  },
  {
   "cell_type": "code",
   "execution_count": 19,
   "metadata": {},
   "outputs": [
    {
     "data": {
      "application/vnd.jupyter.widget-view+json": {
       "model_id": "8048d53241ee45b0ab9d91fb780c166a",
       "version_major": 2,
       "version_minor": 0
      },
      "text/plain": [
       "VBox()"
      ]
     },
     "metadata": {},
     "output_type": "display_data"
    },
    {
     "data": {
      "application/vnd.jupyter.widget-view+json": {
       "model_id": "",
       "version_major": 2,
       "version_minor": 0
      },
      "text/plain": [
       "FloatProgress(value=0.0, bar_style='info', description='Progress:', layout=Layout(height='25px', width='50%'),…"
      ]
     },
     "metadata": {},
     "output_type": "display_data"
    },
    {
     "name": "stdout",
     "output_type": "stream",
     "text": [
      "+-------+-----+\n",
      "| userId|churn|\n",
      "+-------+-----+\n",
      "|1041334|    0|\n",
      "|1633090|    0|\n",
      "|1426289|    1|\n",
      "|1322128|    0|\n",
      "|1613426|    1|\n",
      "|1176340|    0|\n",
      "|1892796|    0|\n",
      "|1580477|    0|\n",
      "|1310470|    1|\n",
      "|1187013|    1|\n",
      "|1612481|    1|\n",
      "|1889806|    0|\n",
      "|1082054|    0|\n",
      "|1901007|    1|\n",
      "|1391302|    1|\n",
      "|1195956|    0|\n",
      "|1789949|    0|\n",
      "|1351526|    0|\n",
      "|1432320|    1|\n",
      "|1169629|    0|\n",
      "+-------+-----+\n",
      "only showing top 20 rows"
     ]
    }
   ],
   "source": [
    "churn = df_clean_churn.select('userId', col('churn').alias('churn')).dropDuplicates()\n",
    "churn.show()"
   ]
  },
  {
   "cell_type": "code",
   "execution_count": 20,
   "metadata": {},
   "outputs": [
    {
     "data": {
      "application/vnd.jupyter.widget-view+json": {
       "model_id": "98f3a97f48a24c15ba0ba91950fed9ac",
       "version_major": 2,
       "version_minor": 0
      },
      "text/plain": [
       "VBox()"
      ]
     },
     "metadata": {},
     "output_type": "display_data"
    },
    {
     "data": {
      "application/vnd.jupyter.widget-view+json": {
       "model_id": "",
       "version_major": 2,
       "version_minor": 0
      },
      "text/plain": [
       "FloatProgress(value=0.0, bar_style='info', description='Progress:', layout=Layout(height='25px', width='50%'),…"
      ]
     },
     "metadata": {},
     "output_type": "display_data"
    },
    {
     "name": "stdout",
     "output_type": "stream",
     "text": [
      "+------+-----+------------------+-----------+-------------+-------------+------+-------+---------+-----------+-----+\n",
      "|gender|level| songs_per_session|total_songs|playlist_adds|friends_added|errors|adverts|thumbs_up|thumbs_down|churn|\n",
      "+------+-----+------------------+-----------+-------------+-------------+------+-------+---------+-----------+-----+\n",
      "|     1|    1|48.666666666666664|       1317|           25|           14|     3|     74|       53|         33|    1|\n",
      "|     1|    0|48.666666666666664|       1317|           25|           14|     3|     74|       53|         33|    1|\n",
      "|     0|    1|104.58823529411765|       2080|           49|           25|     2|      1|       92|         14|    0|\n",
      "|     1|    0| 98.64102564102564|       4669|          135|           76|     1|     67|      200|         29|    0|\n",
      "|     1|    1| 98.64102564102564|       4669|          135|           76|     1|     67|      200|         29|    0|\n",
      "|     0|    0|37.916666666666664|        582|           11|            7|     1|     30|       26|          6|    0|\n",
      "|     0|    1|37.916666666666664|        582|           11|            7|     1|     30|       26|          6|    0|\n",
      "|     0|    0| 82.88235294117646|       1693|           26|           31|     1|      2|       74|         12|    1|\n",
      "|     0|    1| 82.88235294117646|       1693|           26|           31|     1|      2|       74|         12|    1|\n",
      "|     1|    0| 82.44444444444444|       1784|           43|           26|     2|      5|       75|         11|    0|\n",
      "|     1|    1| 82.44444444444444|       1784|           43|           26|     2|      5|       75|         11|    0|\n",
      "|     0|    0| 56.23076923076923|        939|           24|           10|     1|     22|       70|          6|    0|\n",
      "|     0|    1| 56.23076923076923|        939|           24|           10|     1|     22|       70|          6|    0|\n",
      "|     1|    0|              48.0|        618|           19|           16|     1|     36|       22|          4|    0|\n",
      "|     0|    1|            81.375|       1577|           37|           27|     2|     28|       60|         14|    0|\n",
      "|     0|    0|            81.375|       1577|           37|           27|     2|     28|       60|         14|    0|\n",
      "|     0|    1|115.78260869565217|       3165|           84|           35|     7|      7|      147|         27|    0|\n",
      "|     1|    0|61.333333333333336|        679|           19|            7|     2|     24|       23|          6|    0|\n",
      "|     1|    1|61.333333333333336|        679|           19|            7|     2|     24|       23|          6|    0|\n",
      "|     1|    1|             88.64|       2622|           63|           40|     3|      1|      113|         28|    0|\n",
      "+------+-----+------------------+-----------+-------------+-------------+------+-------+---------+-----------+-----+\n",
      "only showing top 20 rows"
     ]
    }
   ],
   "source": [
    "# as a final step we combine all the features with the churn column into a feature_data dataframe\n",
    "\n",
    "feature_data = f1.join(f2, 'userId', 'inner').join(f3, 'userId', 'inner').join(f4, 'userId', 'inner')\\\n",
    "             .join(f5, 'userId', 'inner').join(f6, 'userId', 'inner').join(f7, 'userId', 'inner')\\\n",
    "             .join(f8, 'userId', 'inner').join(f9, 'userId', 'inner').join(f10, 'userId', 'inner').join(churn, 'userId', 'inner').drop('userId')\n",
    "\n",
    "feature_data.show()"
   ]
  },
  {
   "cell_type": "code",
   "execution_count": 21,
   "metadata": {},
   "outputs": [
    {
     "data": {
      "application/vnd.jupyter.widget-view+json": {
       "model_id": "a8ae76927cdd4389a75f8d125327c319",
       "version_major": 2,
       "version_minor": 0
      },
      "text/plain": [
       "VBox()"
      ]
     },
     "metadata": {},
     "output_type": "display_data"
    },
    {
     "data": {
      "application/vnd.jupyter.widget-view+json": {
       "model_id": "",
       "version_major": 2,
       "version_minor": 0
      },
      "text/plain": [
       "FloatProgress(value=0.0, bar_style='info', description='Progress:', layout=Layout(height='25px', width='50%'),…"
      ]
     },
     "metadata": {},
     "output_type": "display_data"
    },
    {
     "name": "stdout",
     "output_type": "stream",
     "text": [
      "+------+-----+------------------+-----------+-------------+-------------+------+-------+---------+-----------+-----+--------------------+\n",
      "|gender|level| songs_per_session|total_songs|playlist_adds|friends_added|errors|adverts|thumbs_up|thumbs_down|churn| vectorized_features|\n",
      "+------+-----+------------------+-----------+-------------+-------------+------+-------+---------+-----------+-----+--------------------+\n",
      "|     1|    1|48.666666666666664|       1317|           25|           14|     3|     74|       53|         33|    1|[1.0,1.0,48.66666...|\n",
      "|     1|    0|48.666666666666664|       1317|           25|           14|     3|     74|       53|         33|    1|[1.0,0.0,48.66666...|\n",
      "|     0|    1|104.58823529411765|       2080|           49|           25|     2|      1|       92|         14|    0|[0.0,1.0,104.5882...|\n",
      "|     1|    0| 98.64102564102564|       4669|          135|           76|     1|     67|      200|         29|    0|[1.0,0.0,98.64102...|\n",
      "|     1|    1| 98.64102564102564|       4669|          135|           76|     1|     67|      200|         29|    0|[1.0,1.0,98.64102...|\n",
      "|     0|    0|37.916666666666664|        582|           11|            7|     1|     30|       26|          6|    0|[0.0,0.0,37.91666...|\n",
      "|     0|    1|37.916666666666664|        582|           11|            7|     1|     30|       26|          6|    0|[0.0,1.0,37.91666...|\n",
      "|     0|    1| 82.88235294117646|       1693|           26|           31|     1|      2|       74|         12|    1|[0.0,1.0,82.88235...|\n",
      "|     0|    0| 82.88235294117646|       1693|           26|           31|     1|      2|       74|         12|    1|[0.0,0.0,82.88235...|\n",
      "|     1|    0| 82.44444444444444|       1784|           43|           26|     2|      5|       75|         11|    0|[1.0,0.0,82.44444...|\n",
      "|     1|    1| 82.44444444444444|       1784|           43|           26|     2|      5|       75|         11|    0|[1.0,1.0,82.44444...|\n",
      "|     0|    0| 56.23076923076923|        939|           24|           10|     1|     22|       70|          6|    0|[0.0,0.0,56.23076...|\n",
      "|     0|    1| 56.23076923076923|        939|           24|           10|     1|     22|       70|          6|    0|[0.0,1.0,56.23076...|\n",
      "|     1|    0|              48.0|        618|           19|           16|     1|     36|       22|          4|    0|[1.0,0.0,48.0,618...|\n",
      "|     0|    1|            81.375|       1577|           37|           27|     2|     28|       60|         14|    0|[0.0,1.0,81.375,1...|\n",
      "|     0|    0|            81.375|       1577|           37|           27|     2|     28|       60|         14|    0|[0.0,0.0,81.375,1...|\n",
      "|     0|    1|115.78260869565217|       3165|           84|           35|     7|      7|      147|         27|    0|[0.0,1.0,115.7826...|\n",
      "|     1|    0|61.333333333333336|        679|           19|            7|     2|     24|       23|          6|    0|[1.0,0.0,61.33333...|\n",
      "|     1|    1|61.333333333333336|        679|           19|            7|     2|     24|       23|          6|    0|[1.0,1.0,61.33333...|\n",
      "|     1|    1|             88.64|       2622|           63|           40|     3|      1|      113|         28|    0|[1.0,1.0,88.64,26...|\n",
      "+------+-----+------------------+-----------+-------------+-------------+------+-------+---------+-----------+-----+--------------------+\n",
      "only showing top 20 rows"
     ]
    }
   ],
   "source": [
    "# before we start the modelling we need to combine the features into a features vector\n",
    "feature_columns = ['gender', 'level', 'songs_per_session', 'total_songs', 'playlist_adds', 'friends_added', 'errors', 'adverts', 'thumbs_up', 'thumbs_down']\n",
    "assmbler = VectorAssembler(inputCols = feature_columns, outputCol = \"vectorized_features\")\n",
    "feature_data = assmbler.transform(feature_data)\n",
    "feature_data.show()"
   ]
  },
  {
   "cell_type": "code",
   "execution_count": null,
   "metadata": {},
   "outputs": [
    {
     "data": {
      "application/vnd.jupyter.widget-view+json": {
       "model_id": "99365a80e0234d8c9634eb98d719dea8",
       "version_major": 2,
       "version_minor": 0
      },
      "text/plain": [
       "VBox()"
      ]
     },
     "metadata": {},
     "output_type": "display_data"
    },
    {
     "data": {
      "application/vnd.jupyter.widget-view+json": {
       "model_id": "",
       "version_major": 2,
       "version_minor": 0
      },
      "text/plain": [
       "FloatProgress(value=0.0, bar_style='info', description='Progress:', layout=Layout(height='25px', width='50%'),…"
      ]
     },
     "metadata": {},
     "output_type": "display_data"
    }
   ],
   "source": [
    "# in order to enable our machine learning models to work with our data without getting bias though different scales\n",
    "# we need to scale the data\n",
    "scaler = StandardScaler(inputCol = 'vectorized_features', outputCol = \"scaled_features\", withStd = True, withMean = False)\n",
    "scaler_model = scaler.fit(feature_data)\n",
    "feature_data = scaler_model.transform(feature_data)"
   ]
  },
  {
   "cell_type": "code",
   "execution_count": 23,
   "metadata": {},
   "outputs": [
    {
     "data": {
      "application/vnd.jupyter.widget-view+json": {
       "model_id": "01f35c8b66424407bef5603b9f031ee9",
       "version_major": 2,
       "version_minor": 0
      },
      "text/plain": [
       "VBox()"
      ]
     },
     "metadata": {},
     "output_type": "display_data"
    },
    {
     "data": {
      "application/vnd.jupyter.widget-view+json": {
       "model_id": "",
       "version_major": 2,
       "version_minor": 0
      },
      "text/plain": [
       "FloatProgress(value=0.0, bar_style='info', description='Progress:', layout=Layout(height='25px', width='50%'),…"
      ]
     },
     "metadata": {},
     "output_type": "display_data"
    }
   ],
   "source": [
    "# here we prepare the data into label and features vector as well was renaming these to use the standard \n",
    "# column names used by the used classifiers.\n",
    "feature_data_final = feature_data.select(['churn', 'scaled_features'])\n",
    "feature_data_final = feature_data_final.selectExpr(\"churn as label\", \"scaled_features as features\")"
   ]
  },
  {
   "cell_type": "code",
   "execution_count": 24,
   "metadata": {},
   "outputs": [
    {
     "data": {
      "application/vnd.jupyter.widget-view+json": {
       "model_id": "2b055f12e9324087b54b2c0dfc86ac5a",
       "version_major": 2,
       "version_minor": 0
      },
      "text/plain": [
       "VBox()"
      ]
     },
     "metadata": {},
     "output_type": "display_data"
    },
    {
     "data": {
      "application/vnd.jupyter.widget-view+json": {
       "model_id": "",
       "version_major": 2,
       "version_minor": 0
      },
      "text/plain": [
       "FloatProgress(value=0.0, bar_style='info', description='Progress:', layout=Layout(height='25px', width='50%'),…"
      ]
     },
     "metadata": {},
     "output_type": "display_data"
    }
   ],
   "source": [
    "# splitting the data in training and testing data sets.\n",
    "train_data , test_data = feature_data_final.randomSplit([0.7,0.3], seed = 42)"
   ]
  },
  {
   "cell_type": "code",
   "execution_count": null,
   "metadata": {},
   "outputs": [
    {
     "data": {
      "application/vnd.jupyter.widget-view+json": {
       "model_id": "1778b2e0007d4c07ad2723ebc06ab0fc",
       "version_major": 2,
       "version_minor": 0
      },
      "text/plain": [
       "VBox()"
      ]
     },
     "metadata": {},
     "output_type": "display_data"
    },
    {
     "data": {
      "application/vnd.jupyter.widget-view+json": {
       "model_id": "",
       "version_major": 2,
       "version_minor": 0
      },
      "text/plain": [
       "FloatProgress(value=0.0, bar_style='info', description='Progress:', layout=Layout(height='25px', width='50%'),…"
      ]
     },
     "metadata": {},
     "output_type": "display_data"
    },
    {
     "name": "stdout",
     "output_type": "stream",
     "text": [
      "[0.6816315447720964]"
     ]
    }
   ],
   "source": [
    "# Fitting a Random Forest Classifier\n",
    "rfc = RandomForestClassifier()\n",
    "\n",
    "mce_f1 = MulticlassClassificationEvaluator(metricName = 'f1')\n",
    "parameter_grid = ParamGridBuilder().build()\n",
    "\n",
    "cv_rf = CrossValidator(estimator = rfc, estimatorParamMaps = parameter_grid, evaluator = mce_f1, numFolds = 2)\n",
    "\n",
    "cv_rf_model = cv_rf.fit(train_data)\n",
    "cv_rf_model.avgMetrics"
   ]
  },
  {
   "cell_type": "code",
   "execution_count": null,
   "metadata": {},
   "outputs": [
    {
     "data": {
      "application/vnd.jupyter.widget-view+json": {
       "model_id": "a02f4f24687f414a912e98ba5e988026",
       "version_major": 2,
       "version_minor": 0
      },
      "text/plain": [
       "VBox()"
      ]
     },
     "metadata": {},
     "output_type": "display_data"
    },
    {
     "data": {
      "application/vnd.jupyter.widget-view+json": {
       "model_id": "",
       "version_major": 2,
       "version_minor": 0
      },
      "text/plain": [
       "FloatProgress(value=0.0, bar_style='info', description='Progress:', layout=Layout(height='25px', width='50%'),…"
      ]
     },
     "metadata": {},
     "output_type": "display_data"
    },
    {
     "name": "stdout",
     "output_type": "stream",
     "text": [
      "f1 score: 0.7853231106243155\n",
      "accuracy: 0.6962696408305166\n",
      "area under ROC: 0.5102765088380845"
     ]
    }
   ],
   "source": [
    "# Evaluating the results with regard to f1 score and accuracy\n",
    "test_result_rf = cv_rf_model.transform(test_data)\n",
    "\n",
    "evaluator = MulticlassClassificationEvaluator(predictionCol = \"prediction\")\n",
    "evaluator_ROC = BinaryClassificationEvaluator(rawPredictionCol='prediction', metricName='areaUnderROC')\n",
    "print(\"f1 score: \" + str(evaluator.evaluate(test_result_rf, {evaluator.metricName : \"accuracy\"})))\n",
    "print(\"accuracy: \" + str(evaluator.evaluate(test_result_rf, {evaluator.metricName : \"f1\"})))\n",
    "print(\"area under ROC: \" + str(evaluator_ROC.evaluate(test_result_rf, {evaluator.metricName : \"areaUnderROC\"})))"
   ]
  },
  {
   "cell_type": "code",
   "execution_count": null,
   "metadata": {},
   "outputs": [
    {
     "data": {
      "application/vnd.jupyter.widget-view+json": {
       "model_id": "4614d27024994f188e84070cf17b3fc9",
       "version_major": 2,
       "version_minor": 0
      },
      "text/plain": [
       "VBox()"
      ]
     },
     "metadata": {},
     "output_type": "display_data"
    },
    {
     "data": {
      "application/vnd.jupyter.widget-view+json": {
       "model_id": "",
       "version_major": 2,
       "version_minor": 0
      },
      "text/plain": [
       "FloatProgress(value=0.0, bar_style='info', description='Progress:', layout=Layout(height='25px', width='50%'),…"
      ]
     },
     "metadata": {},
     "output_type": "display_data"
    },
    {
     "name": "stdout",
     "output_type": "stream",
     "text": [
      "[0.6970628674152508]"
     ]
    }
   ],
   "source": [
    "# Fitting a Gradient Boost Tree Classifier\n",
    "gbtc = GBTClassifier(maxIter = 5, maxDepth = 5, seed = 42)\n",
    "\n",
    "mce_f1 = MulticlassClassificationEvaluator(metricName = 'f1')\n",
    "parameter_grid = ParamGridBuilder().build()\n",
    "\n",
    "cv_gbtc = CrossValidator(estimator = gbtc, estimatorParamMaps = parameter_grid, evaluator = mce_f1, numFolds = 2)\n",
    "\n",
    "cv_gbtc_model = cv_gbtc.fit(train_data)\n",
    "cv_gbtc_model.avgMetrics"
   ]
  },
  {
   "cell_type": "code",
   "execution_count": null,
   "metadata": {},
   "outputs": [
    {
     "data": {
      "application/vnd.jupyter.widget-view+json": {
       "model_id": "72f1ac5ad82e474aae84a132ed29251a",
       "version_major": 2,
       "version_minor": 0
      },
      "text/plain": [
       "VBox()"
      ]
     },
     "metadata": {},
     "output_type": "display_data"
    },
    {
     "data": {
      "application/vnd.jupyter.widget-view+json": {
       "model_id": "",
       "version_major": 2,
       "version_minor": 0
      },
      "text/plain": [
       "FloatProgress(value=0.0, bar_style='info', description='Progress:', layout=Layout(height='25px', width='50%'),…"
      ]
     },
     "metadata": {},
     "output_type": "display_data"
    },
    {
     "name": "stdout",
     "output_type": "stream",
     "text": [
      "f1 score: 0.7882438846294268\n",
      "accuracy: 0.7085762138808424\n",
      "area under ROC: 0.5226772841938998"
     ]
    }
   ],
   "source": [
    "# Evaluating the results with regard to f1 score and accuracy\n",
    "test_result_gbtc = cv_gbtc_model.transform(test_data)\n",
    "\n",
    "evaluator = MulticlassClassificationEvaluator(predictionCol = \"prediction\")\n",
    "evaluator_ROC = BinaryClassificationEvaluator(rawPredictionCol='prediction', metricName='areaUnderROC')\n",
    "print(\"f1 score: \" + str(evaluator.evaluate(test_result_gbtc, {evaluator.metricName : \"accuracy\"})))\n",
    "print(\"accuracy: \" + str(evaluator.evaluate(test_result_gbtc, {evaluator.metricName : \"f1\"})))\n",
    "print(\"area under ROC: \" + str(evaluator_ROC.evaluate(test_result_gbtc, {evaluator.metricName : \"areaUnderROC\"})))"
   ]
  },
  {
   "cell_type": "code",
   "execution_count": null,
   "metadata": {},
   "outputs": [],
   "source": [
    "# Fitting a Gradient Boost Tree Classifier and using Grid Search to find the optimal hyperparameters\n",
    "gbtc_final = GBTClassifier(maxIter = 5, maxDepth = 5, seed = 42)\n",
    "parameter_grid_final = ParamGridBuilder().addGrid(gbtc_final.maxIter, [5, 10, 15, 20]).addGrid(gbtc_final.maxDepth, [5, 10]).build()\n",
    "\n",
    "cv_gbtc_final = CrossValidator(estimator = gbtc_final, estimatorParamMaps = parameter_grid_final, evaluator = mce_f1, numFolds = 3)\n",
    "cv_gbtc_model_final = cv_gbtc_final.fit(train_data)\n",
    "cv_gbtc_model_final.avgMetrics"
   ]
  },
  {
   "cell_type": "code",
   "execution_count": null,
   "metadata": {},
   "outputs": [],
   "source": [
    "# Evaluating the results with regard to f1 score and accuracy\n",
    "test_result_gbtc_final = cv_gbtc_model_final.transform(test_data)\n",
    "\n",
    "evaluator = MulticlassClassificationEvaluator(predictionCol = \"prediction\")\n",
    "evaluator_ROC = BinaryClassificationEvaluator(rawPredictionCol='prediction', metricName='areaUnderROC')\n",
    "\n",
    "print(\"f1 score: \" + str(evaluator.evaluate(test_result_gbtc_final, {evaluator.metricName : \"accuracy\"})))\n",
    "print(\"accuracy: \" + str(evaluator.evaluate(test_result_gbtc_final, {evaluator.metricName : \"f1\"})))\n",
    "print(\"area under ROC: \" + str(evaluator_ROC.evaluate(test_result_gbtc_final, {evaluator.metricName : \"areaUnderROC\"})))"
   ]
  },
  {
   "cell_type": "code",
   "execution_count": null,
   "metadata": {},
   "outputs": [],
   "source": []
  }
 ],
 "metadata": {
  "kernelspec": {
   "display_name": "PySpark",
   "language": "",
   "name": "pysparkkernel"
  },
  "language_info": {
   "codemirror_mode": {
    "name": "python",
    "version": 2
   },
   "mimetype": "text/x-python",
   "name": "pyspark",
   "pygments_lexer": "python2"
  }
 },
 "nbformat": 4,
 "nbformat_minor": 4
}
